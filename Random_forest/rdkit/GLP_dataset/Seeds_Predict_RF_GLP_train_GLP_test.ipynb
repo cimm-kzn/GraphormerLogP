{
  "cells": [
    {
      "cell_type": "markdown",
      "id": "7b5c877e",
      "metadata": {},
      "source": [
        "To run predictions, you first need to place the trained model file (.joblib format) into the current directory"
      ]
    },
    {
      "cell_type": "code",
      "execution_count": 1,
      "id": "b8d8c689-a29b-4a51-b38d-3a61720852e0",
      "metadata": {},
      "outputs": [],
      "source": [
        "from sklearn.preprocessing import FunctionTransformer\n",
        "import pandas as pd\n",
        "from matplotlib import rcParams\n",
        "from sklearn.metrics import r2_score, mean_squared_error, mean_absolute_error\n",
        "import numpy as np\n",
        "\n",
        "from rdkit.Chem import Descriptors\n",
        "from rdkit import Chem\n",
        "from sklearn.compose import ColumnTransformer\n",
        "from numpy import array\n",
        "from joblib import load\n",
        "\n",
        "rcParams['figure.dpi'] = 900\n"
      ]
    },
    {
      "cell_type": "code",
      "execution_count": 2,
      "id": "4a429e9e",
      "metadata": {},
      "outputs": [],
      "source": [
        "seed = 42"
      ]
    },
    {
      "cell_type": "code",
      "execution_count": 3,
      "id": "8fa089b4",
      "metadata": {},
      "outputs": [
        {
          "name": "stderr",
          "output_type": "stream",
          "text": [
            "c:\\Users\\slavi\\.conda\\envs\\VKR_env\\lib\\site-packages\\sklearn\\base.py:347: InconsistentVersionWarning: Trying to unpickle estimator DecisionTreeRegressor from version 1.3.1 when using version 1.3.0. This might lead to breaking code or invalid results. Use at your own risk. For more info please refer to:\n",
            "https://scikit-learn.org/stable/model_persistence.html#security-maintainability-limitations\n",
            "  warnings.warn(\n",
            "c:\\Users\\slavi\\.conda\\envs\\VKR_env\\lib\\site-packages\\sklearn\\base.py:347: InconsistentVersionWarning: Trying to unpickle estimator RandomForestRegressor from version 1.3.1 when using version 1.3.0. This might lead to breaking code or invalid results. Use at your own risk. For more info please refer to:\n",
            "https://scikit-learn.org/stable/model_persistence.html#security-maintainability-limitations\n",
            "  warnings.warn(\n",
            "c:\\Users\\slavi\\.conda\\envs\\VKR_env\\lib\\site-packages\\sklearn\\base.py:347: InconsistentVersionWarning: Trying to unpickle estimator GridSearchCV from version 1.3.1 when using version 1.3.0. This might lead to breaking code or invalid results. Use at your own risk. For more info please refer to:\n",
            "https://scikit-learn.org/stable/model_persistence.html#security-maintainability-limitations\n",
            "  warnings.warn(\n"
          ]
        },
        {
          "data": {
            "text/html": [
              "<style>#sk-container-id-1 {color: black;}#sk-container-id-1 pre{padding: 0;}#sk-container-id-1 div.sk-toggleable {background-color: white;}#sk-container-id-1 label.sk-toggleable__label {cursor: pointer;display: block;width: 100%;margin-bottom: 0;padding: 0.3em;box-sizing: border-box;text-align: center;}#sk-container-id-1 label.sk-toggleable__label-arrow:before {content: \"▸\";float: left;margin-right: 0.25em;color: #696969;}#sk-container-id-1 label.sk-toggleable__label-arrow:hover:before {color: black;}#sk-container-id-1 div.sk-estimator:hover label.sk-toggleable__label-arrow:before {color: black;}#sk-container-id-1 div.sk-toggleable__content {max-height: 0;max-width: 0;overflow: hidden;text-align: left;background-color: #f0f8ff;}#sk-container-id-1 div.sk-toggleable__content pre {margin: 0.2em;color: black;border-radius: 0.25em;background-color: #f0f8ff;}#sk-container-id-1 input.sk-toggleable__control:checked~div.sk-toggleable__content {max-height: 200px;max-width: 100%;overflow: auto;}#sk-container-id-1 input.sk-toggleable__control:checked~label.sk-toggleable__label-arrow:before {content: \"▾\";}#sk-container-id-1 div.sk-estimator input.sk-toggleable__control:checked~label.sk-toggleable__label {background-color: #d4ebff;}#sk-container-id-1 div.sk-label input.sk-toggleable__control:checked~label.sk-toggleable__label {background-color: #d4ebff;}#sk-container-id-1 input.sk-hidden--visually {border: 0;clip: rect(1px 1px 1px 1px);clip: rect(1px, 1px, 1px, 1px);height: 1px;margin: -1px;overflow: hidden;padding: 0;position: absolute;width: 1px;}#sk-container-id-1 div.sk-estimator {font-family: monospace;background-color: #f0f8ff;border: 1px dotted black;border-radius: 0.25em;box-sizing: border-box;margin-bottom: 0.5em;}#sk-container-id-1 div.sk-estimator:hover {background-color: #d4ebff;}#sk-container-id-1 div.sk-parallel-item::after {content: \"\";width: 100%;border-bottom: 1px solid gray;flex-grow: 1;}#sk-container-id-1 div.sk-label:hover label.sk-toggleable__label {background-color: #d4ebff;}#sk-container-id-1 div.sk-serial::before {content: \"\";position: absolute;border-left: 1px solid gray;box-sizing: border-box;top: 0;bottom: 0;left: 50%;z-index: 0;}#sk-container-id-1 div.sk-serial {display: flex;flex-direction: column;align-items: center;background-color: white;padding-right: 0.2em;padding-left: 0.2em;position: relative;}#sk-container-id-1 div.sk-item {position: relative;z-index: 1;}#sk-container-id-1 div.sk-parallel {display: flex;align-items: stretch;justify-content: center;background-color: white;position: relative;}#sk-container-id-1 div.sk-item::before, #sk-container-id-1 div.sk-parallel-item::before {content: \"\";position: absolute;border-left: 1px solid gray;box-sizing: border-box;top: 0;bottom: 0;left: 50%;z-index: -1;}#sk-container-id-1 div.sk-parallel-item {display: flex;flex-direction: column;z-index: 1;position: relative;background-color: white;}#sk-container-id-1 div.sk-parallel-item:first-child::after {align-self: flex-end;width: 50%;}#sk-container-id-1 div.sk-parallel-item:last-child::after {align-self: flex-start;width: 50%;}#sk-container-id-1 div.sk-parallel-item:only-child::after {width: 0;}#sk-container-id-1 div.sk-dashed-wrapped {border: 1px dashed gray;margin: 0 0.4em 0.5em 0.4em;box-sizing: border-box;padding-bottom: 0.4em;background-color: white;}#sk-container-id-1 div.sk-label label {font-family: monospace;font-weight: bold;display: inline-block;line-height: 1.2em;}#sk-container-id-1 div.sk-label-container {text-align: center;}#sk-container-id-1 div.sk-container {/* jupyter's `normalize.less` sets `[hidden] { display: none; }` but bootstrap.min.css set `[hidden] { display: none !important; }` so we also need the `!important` here to be able to override the default hidden behavior on the sphinx rendered scikit-learn.org. See: https://github.com/scikit-learn/scikit-learn/issues/21755 */display: inline-block !important;position: relative;}#sk-container-id-1 div.sk-text-repr-fallback {display: none;}</style><div id=\"sk-container-id-1\" class=\"sk-top-container\"><div class=\"sk-text-repr-fallback\"><pre>GridSearchCV(cv=KFold(n_splits=5, random_state=None, shuffle=False),\n",
              "             estimator=RandomForestRegressor(random_state=42), n_jobs=10,\n",
              "             param_grid={&#x27;criterion&#x27;: [&#x27;squared_error&#x27;],\n",
              "                         &#x27;max_depth&#x27;: [30, 40, 50, 60, 70, 80, 90],\n",
              "                         &#x27;max_features&#x27;: [&#x27;sqrt&#x27;, &#x27;log2&#x27;],\n",
              "                         &#x27;n_estimators&#x27;: [250, 300, 350, 400, 450, 500]},\n",
              "             scoring=&#x27;r2&#x27;, verbose=1)</pre><b>In a Jupyter environment, please rerun this cell to show the HTML representation or trust the notebook. <br />On GitHub, the HTML representation is unable to render, please try loading this page with nbviewer.org.</b></div><div class=\"sk-container\" hidden><div class=\"sk-item sk-dashed-wrapped\"><div class=\"sk-label-container\"><div class=\"sk-label sk-toggleable\"><input class=\"sk-toggleable__control sk-hidden--visually\" id=\"sk-estimator-id-1\" type=\"checkbox\" ><label for=\"sk-estimator-id-1\" class=\"sk-toggleable__label sk-toggleable__label-arrow\">GridSearchCV</label><div class=\"sk-toggleable__content\"><pre>GridSearchCV(cv=KFold(n_splits=5, random_state=None, shuffle=False),\n",
              "             estimator=RandomForestRegressor(random_state=42), n_jobs=10,\n",
              "             param_grid={&#x27;criterion&#x27;: [&#x27;squared_error&#x27;],\n",
              "                         &#x27;max_depth&#x27;: [30, 40, 50, 60, 70, 80, 90],\n",
              "                         &#x27;max_features&#x27;: [&#x27;sqrt&#x27;, &#x27;log2&#x27;],\n",
              "                         &#x27;n_estimators&#x27;: [250, 300, 350, 400, 450, 500]},\n",
              "             scoring=&#x27;r2&#x27;, verbose=1)</pre></div></div></div><div class=\"sk-parallel\"><div class=\"sk-parallel-item\"><div class=\"sk-item\"><div class=\"sk-label-container\"><div class=\"sk-label sk-toggleable\"><input class=\"sk-toggleable__control sk-hidden--visually\" id=\"sk-estimator-id-2\" type=\"checkbox\" ><label for=\"sk-estimator-id-2\" class=\"sk-toggleable__label sk-toggleable__label-arrow\">estimator: RandomForestRegressor</label><div class=\"sk-toggleable__content\"><pre>RandomForestRegressor(random_state=42)</pre></div></div></div><div class=\"sk-serial\"><div class=\"sk-item\"><div class=\"sk-estimator sk-toggleable\"><input class=\"sk-toggleable__control sk-hidden--visually\" id=\"sk-estimator-id-3\" type=\"checkbox\" ><label for=\"sk-estimator-id-3\" class=\"sk-toggleable__label sk-toggleable__label-arrow\">RandomForestRegressor</label><div class=\"sk-toggleable__content\"><pre>RandomForestRegressor(random_state=42)</pre></div></div></div></div></div></div></div></div></div></div>"
            ],
            "text/plain": [
              "GridSearchCV(cv=KFold(n_splits=5, random_state=None, shuffle=False),\n",
              "             estimator=RandomForestRegressor(random_state=42), n_jobs=10,\n",
              "             param_grid={'criterion': ['squared_error'],\n",
              "                         'max_depth': [30, 40, 50, 60, 70, 80, 90],\n",
              "                         'max_features': ['sqrt', 'log2'],\n",
              "                         'n_estimators': [250, 300, 350, 400, 450, 500]},\n",
              "             scoring='r2', verbose=1)"
            ]
          },
          "execution_count": 3,
          "metadata": {},
          "output_type": "execute_result"
        }
      ],
      "source": [
        "grid = load(f'RF_RDKit_GLP_train_Seed_{seed}.joblib')\n",
        "grid"
      ]
    },
    {
      "cell_type": "code",
      "execution_count": 4,
      "id": "1a73bf3f",
      "metadata": {},
      "outputs": [
        {
          "data": {
            "text/html": [
              "<div>\n",
              "<style scoped>\n",
              "    .dataframe tbody tr th:only-of-type {\n",
              "        vertical-align: middle;\n",
              "    }\n",
              "\n",
              "    .dataframe tbody tr th {\n",
              "        vertical-align: top;\n",
              "    }\n",
              "\n",
              "    .dataframe thead th {\n",
              "        text-align: right;\n",
              "    }\n",
              "</style>\n",
              "<table border=\"1\" class=\"dataframe\">\n",
              "  <thead>\n",
              "    <tr style=\"text-align: right;\">\n",
              "      <th></th>\n",
              "      <th>molecule</th>\n",
              "    </tr>\n",
              "  </thead>\n",
              "  <tbody>\n",
              "    <tr>\n",
              "      <th>0</th>\n",
              "      <td>&lt;rdkit.Chem.rdchem.Mol object at 0x0000021D280...</td>\n",
              "    </tr>\n",
              "    <tr>\n",
              "      <th>2</th>\n",
              "      <td>&lt;rdkit.Chem.rdchem.Mol object at 0x0000021D280...</td>\n",
              "    </tr>\n",
              "    <tr>\n",
              "      <th>3</th>\n",
              "      <td>&lt;rdkit.Chem.rdchem.Mol object at 0x0000021D280...</td>\n",
              "    </tr>\n",
              "    <tr>\n",
              "      <th>5</th>\n",
              "      <td>&lt;rdkit.Chem.rdchem.Mol object at 0x0000021D280...</td>\n",
              "    </tr>\n",
              "    <tr>\n",
              "      <th>8</th>\n",
              "      <td>&lt;rdkit.Chem.rdchem.Mol object at 0x0000021D280...</td>\n",
              "    </tr>\n",
              "  </tbody>\n",
              "</table>\n",
              "</div>"
            ],
            "text/plain": [
              "                                            molecule\n",
              "0  <rdkit.Chem.rdchem.Mol object at 0x0000021D280...\n",
              "2  <rdkit.Chem.rdchem.Mol object at 0x0000021D280...\n",
              "3  <rdkit.Chem.rdchem.Mol object at 0x0000021D280...\n",
              "5  <rdkit.Chem.rdchem.Mol object at 0x0000021D280...\n",
              "8  <rdkit.Chem.rdchem.Mol object at 0x0000021D280..."
            ]
          },
          "execution_count": 4,
          "metadata": {},
          "output_type": "execute_result"
        }
      ],
      "source": [
        "train_data = pd.read_csv('GLP_dataset.csv')\n",
        "train_data = train_data[train_data['dataset_type'] == 'train']\n",
        "y_train = train_data['logp']\n",
        "train_data = pd.DataFrame(train_data['molecule'].map(lambda x: Chem.MolFromSmiles(x)))\n",
        "train_data.head()"
      ]
    },
    {
      "cell_type": "code",
      "execution_count": 5,
      "id": "1b64e503",
      "metadata": {},
      "outputs": [
        {
          "data": {
            "text/html": [
              "<div>\n",
              "<style scoped>\n",
              "    .dataframe tbody tr th:only-of-type {\n",
              "        vertical-align: middle;\n",
              "    }\n",
              "\n",
              "    .dataframe tbody tr th {\n",
              "        vertical-align: top;\n",
              "    }\n",
              "\n",
              "    .dataframe thead th {\n",
              "        text-align: right;\n",
              "    }\n",
              "</style>\n",
              "<table border=\"1\" class=\"dataframe\">\n",
              "  <thead>\n",
              "    <tr style=\"text-align: right;\">\n",
              "      <th></th>\n",
              "      <th>molecule</th>\n",
              "    </tr>\n",
              "  </thead>\n",
              "  <tbody>\n",
              "    <tr>\n",
              "      <th>4</th>\n",
              "      <td>&lt;rdkit.Chem.rdchem.Mol object at 0x0000021D27A...</td>\n",
              "    </tr>\n",
              "    <tr>\n",
              "      <th>40</th>\n",
              "      <td>&lt;rdkit.Chem.rdchem.Mol object at 0x0000021D27A...</td>\n",
              "    </tr>\n",
              "    <tr>\n",
              "      <th>53</th>\n",
              "      <td>&lt;rdkit.Chem.rdchem.Mol object at 0x0000021D27A...</td>\n",
              "    </tr>\n",
              "    <tr>\n",
              "      <th>80</th>\n",
              "      <td>&lt;rdkit.Chem.rdchem.Mol object at 0x0000021D27A...</td>\n",
              "    </tr>\n",
              "    <tr>\n",
              "      <th>83</th>\n",
              "      <td>&lt;rdkit.Chem.rdchem.Mol object at 0x0000021D27A...</td>\n",
              "    </tr>\n",
              "  </tbody>\n",
              "</table>\n",
              "</div>"
            ],
            "text/plain": [
              "                                             molecule\n",
              "4   <rdkit.Chem.rdchem.Mol object at 0x0000021D27A...\n",
              "40  <rdkit.Chem.rdchem.Mol object at 0x0000021D27A...\n",
              "53  <rdkit.Chem.rdchem.Mol object at 0x0000021D27A...\n",
              "80  <rdkit.Chem.rdchem.Mol object at 0x0000021D27A...\n",
              "83  <rdkit.Chem.rdchem.Mol object at 0x0000021D27A..."
            ]
          },
          "execution_count": 5,
          "metadata": {},
          "output_type": "execute_result"
        }
      ],
      "source": [
        "test_data = pd.read_csv('GLP_dataset.csv')\n",
        "test_data = test_data[test_data['dataset_type'] == 'test']\n",
        "y_test = test_data['logp']\n",
        "test_data = pd.DataFrame(test_data['molecule'].map(lambda x: Chem.MolFromSmiles(x)))\n",
        "test_data.head()"
      ]
    },
    {
      "cell_type": "code",
      "execution_count": 6,
      "id": "c59dd447",
      "metadata": {},
      "outputs": [
        {
          "name": "stdout",
          "output_type": "stream",
          "text": [
            "(29404, 14)\n",
            "(6301, 14)\n"
          ]
        }
      ],
      "source": [
        "ConstDescriptors = {\"HeavyAtomCount\": Descriptors.HeavyAtomCount,\n",
        "                    \"NHOHCount\": Descriptors.NHOHCount,\n",
        "                    \"NOCount\": Descriptors.NOCount,\n",
        "                    \"NumHAcceptors\": Descriptors.NumHAcceptors,\n",
        "                    \"NumHDonors\": Descriptors.NumHDonors,\n",
        "                    \"NumHeteroatoms\": Descriptors.NumHeteroatoms,\n",
        "                    \"NumRotatableBonds\": Descriptors.NumRotatableBonds,\n",
        "                    \"NumValenceElectrons\": Descriptors.NumValenceElectrons,\n",
        "                    \"NumAromaticRings\": Descriptors.NumAromaticRings,\n",
        "                    \"NumAliphaticHeterocycles\": Descriptors.NumAliphaticHeterocycles,\n",
        "                    \"RingCount\": Descriptors.RingCount}\n",
        "\n",
        "PhisChemDescriptors = {\"MW\": Descriptors.MolWt,\n",
        "                       \"MR\": Descriptors.MolMR,\n",
        "                       \"TPSA\": Descriptors.TPSA}\n",
        "\n",
        "descriptors = {}\n",
        "descriptors.update(ConstDescriptors)\n",
        "descriptors.update(PhisChemDescriptors)\n",
        "descriptors_names_list = [key for key in list(descriptors.keys())]\n",
        "\n",
        "def mol_dsc_calc(mols):\n",
        "    return pd.DataFrame({k: f(m) for k, f in descriptors.items()}\n",
        "             for m in array(mols).ravel())\n",
        "\n",
        "def descriptors_names(transformer, mol_dsc_calc_obj):\n",
        "    return [f'{key}' for key in list(descriptors.keys())]\n",
        "\n",
        "descriptors_transformer = FunctionTransformer(mol_dsc_calc, validate=False, feature_names_out=descriptors_names)\n",
        "\n",
        "features = ColumnTransformer([('descriptors', descriptors_transformer, [0])])\n",
        "\n",
        "X_train = features.fit_transform(train_data)\n",
        "X_test = features.fit_transform(test_data)\n",
        "print(X_train.shape)\n",
        "print(X_test.shape)"
      ]
    },
    {
      "cell_type": "code",
      "execution_count": 7,
      "id": "c81314b0",
      "metadata": {},
      "outputs": [
        {
          "data": {
            "text/plain": [
              "array([3.17771733, 4.55152   , 4.28341834, ..., 2.33494133, 2.11674   ,\n",
              "       1.44364257])"
            ]
          },
          "execution_count": 7,
          "metadata": {},
          "output_type": "execute_result"
        }
      ],
      "source": [
        "y_pred = grid.predict(X_test)\n",
        "y_pred"
      ]
    },
    {
      "cell_type": "code",
      "execution_count": 8,
      "id": "a02e4429",
      "metadata": {},
      "outputs": [],
      "source": [
        "df = test_data\n",
        "df['logp'] = y_test "
      ]
    },
    {
      "cell_type": "code",
      "execution_count": 9,
      "id": "6dfc9b65",
      "metadata": {},
      "outputs": [],
      "source": [
        "df[f'logP_pred_{seed}'] = y_pred"
      ]
    },
    {
      "cell_type": "code",
      "execution_count": 10,
      "id": "9788d986",
      "metadata": {},
      "outputs": [
        {
          "data": {
            "text/html": [
              "<div>\n",
              "<style scoped>\n",
              "    .dataframe tbody tr th:only-of-type {\n",
              "        vertical-align: middle;\n",
              "    }\n",
              "\n",
              "    .dataframe tbody tr th {\n",
              "        vertical-align: top;\n",
              "    }\n",
              "\n",
              "    .dataframe thead th {\n",
              "        text-align: right;\n",
              "    }\n",
              "</style>\n",
              "<table border=\"1\" class=\"dataframe\">\n",
              "  <thead>\n",
              "    <tr style=\"text-align: right;\">\n",
              "      <th></th>\n",
              "      <th>molecule</th>\n",
              "      <th>logp</th>\n",
              "      <th>logP_pred_42</th>\n",
              "    </tr>\n",
              "  </thead>\n",
              "  <tbody>\n",
              "    <tr>\n",
              "      <th>4</th>\n",
              "      <td>&lt;rdkit.Chem.rdchem.Mol object at 0x0000021D27A...</td>\n",
              "      <td>2.55</td>\n",
              "      <td>3.177717</td>\n",
              "    </tr>\n",
              "    <tr>\n",
              "      <th>40</th>\n",
              "      <td>&lt;rdkit.Chem.rdchem.Mol object at 0x0000021D27A...</td>\n",
              "      <td>4.47</td>\n",
              "      <td>4.551520</td>\n",
              "    </tr>\n",
              "    <tr>\n",
              "      <th>53</th>\n",
              "      <td>&lt;rdkit.Chem.rdchem.Mol object at 0x0000021D27A...</td>\n",
              "      <td>3.84</td>\n",
              "      <td>4.283418</td>\n",
              "    </tr>\n",
              "    <tr>\n",
              "      <th>80</th>\n",
              "      <td>&lt;rdkit.Chem.rdchem.Mol object at 0x0000021D27A...</td>\n",
              "      <td>5.55</td>\n",
              "      <td>5.296022</td>\n",
              "    </tr>\n",
              "    <tr>\n",
              "      <th>83</th>\n",
              "      <td>&lt;rdkit.Chem.rdchem.Mol object at 0x0000021D27A...</td>\n",
              "      <td>4.48</td>\n",
              "      <td>3.787075</td>\n",
              "    </tr>\n",
              "    <tr>\n",
              "      <th>...</th>\n",
              "      <td>...</td>\n",
              "      <td>...</td>\n",
              "      <td>...</td>\n",
              "    </tr>\n",
              "    <tr>\n",
              "      <th>41929</th>\n",
              "      <td>&lt;rdkit.Chem.rdchem.Mol object at 0x0000021D288...</td>\n",
              "      <td>1.69</td>\n",
              "      <td>0.617183</td>\n",
              "    </tr>\n",
              "    <tr>\n",
              "      <th>41958</th>\n",
              "      <td>&lt;rdkit.Chem.rdchem.Mol object at 0x0000021D288...</td>\n",
              "      <td>1.74</td>\n",
              "      <td>1.960103</td>\n",
              "    </tr>\n",
              "    <tr>\n",
              "      <th>41963</th>\n",
              "      <td>&lt;rdkit.Chem.rdchem.Mol object at 0x0000021D288...</td>\n",
              "      <td>1.96</td>\n",
              "      <td>2.334941</td>\n",
              "    </tr>\n",
              "    <tr>\n",
              "      <th>41968</th>\n",
              "      <td>&lt;rdkit.Chem.rdchem.Mol object at 0x0000021D288...</td>\n",
              "      <td>1.66</td>\n",
              "      <td>2.116740</td>\n",
              "    </tr>\n",
              "    <tr>\n",
              "      <th>41995</th>\n",
              "      <td>&lt;rdkit.Chem.rdchem.Mol object at 0x0000021D288...</td>\n",
              "      <td>2.11</td>\n",
              "      <td>1.443643</td>\n",
              "    </tr>\n",
              "  </tbody>\n",
              "</table>\n",
              "<p>6301 rows × 3 columns</p>\n",
              "</div>"
            ],
            "text/plain": [
              "                                                molecule  logp  logP_pred_42\n",
              "4      <rdkit.Chem.rdchem.Mol object at 0x0000021D27A...  2.55      3.177717\n",
              "40     <rdkit.Chem.rdchem.Mol object at 0x0000021D27A...  4.47      4.551520\n",
              "53     <rdkit.Chem.rdchem.Mol object at 0x0000021D27A...  3.84      4.283418\n",
              "80     <rdkit.Chem.rdchem.Mol object at 0x0000021D27A...  5.55      5.296022\n",
              "83     <rdkit.Chem.rdchem.Mol object at 0x0000021D27A...  4.48      3.787075\n",
              "...                                                  ...   ...           ...\n",
              "41929  <rdkit.Chem.rdchem.Mol object at 0x0000021D288...  1.69      0.617183\n",
              "41958  <rdkit.Chem.rdchem.Mol object at 0x0000021D288...  1.74      1.960103\n",
              "41963  <rdkit.Chem.rdchem.Mol object at 0x0000021D288...  1.96      2.334941\n",
              "41968  <rdkit.Chem.rdchem.Mol object at 0x0000021D288...  1.66      2.116740\n",
              "41995  <rdkit.Chem.rdchem.Mol object at 0x0000021D288...  2.11      1.443643\n",
              "\n",
              "[6301 rows x 3 columns]"
            ]
          },
          "execution_count": 10,
          "metadata": {},
          "output_type": "execute_result"
        }
      ],
      "source": [
        "df"
      ]
    },
    {
      "cell_type": "code",
      "execution_count": 11,
      "id": "a178d575",
      "metadata": {},
      "outputs": [
        {
          "data": {
            "text/plain": [
              "(0.861, 0.835, 0.56)"
            ]
          },
          "execution_count": 11,
          "metadata": {},
          "output_type": "execute_result"
        }
      ],
      "source": [
        "r2 = r2_score(df['logp'], df[f'logP_pred_{seed}'])\n",
        "rmse = np.sqrt(mean_squared_error(df['logp'], df[f'logP_pred_{seed}']))\n",
        "mae = mean_absolute_error(df['logp'], df[f'logP_pred_{seed}'])\n",
        "round(rmse, 3), round(r2, 3), round(mae, 3)"
      ]
    },
    {
      "cell_type": "code",
      "execution_count": 12,
      "id": "526e023f",
      "metadata": {},
      "outputs": [],
      "source": [
        "df.to_csv('Seeds_Predict_RF_GLP_train_GLP_test.csv', index=False)"
      ]
    }
  ],
  "metadata": {
    "kernelspec": {
      "display_name": "VKR_env",
      "language": "python",
      "name": "python3"
    },
    "language_info": {
      "codemirror_mode": {
        "name": "ipython",
        "version": 3
      },
      "file_extension": ".py",
      "mimetype": "text/x-python",
      "name": "python",
      "nbconvert_exporter": "python",
      "pygments_lexer": "ipython3",
      "version": "3.10.16"
    }
  },
  "nbformat": 4,
  "nbformat_minor": 5
}
