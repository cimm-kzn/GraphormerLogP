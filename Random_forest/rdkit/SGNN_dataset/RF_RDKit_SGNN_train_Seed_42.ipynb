{
  "cells": [
    {
      "cell_type": "code",
      "execution_count": null,
      "metadata": {
        "id": "axa1hzDKW5lr",
        "tags": []
      },
      "outputs": [],
      "source": [
        "from sklearn.metrics import r2_score, mean_squared_error\n",
        "from sklearn.model_selection import KFold, GridSearchCV\n",
        "from sklearn.ensemble import RandomForestRegressor\n",
        "from sklearn.preprocessing import FunctionTransformer\n",
        "import pandas as pd\n",
        "from matplotlib import rcParams\n",
        "\n",
        "\n",
        "from rdkit.Chem import Descriptors\n",
        "from rdkit import Chem\n",
        "from sklearn.compose import ColumnTransformer\n",
        "from numpy import array\n",
        "\n",
        "rcParams['figure.dpi'] = 900\n"
      ]
    },
    {
      "cell_type": "code",
      "execution_count": 3,
      "metadata": {},
      "outputs": [
        {
          "data": {
            "text/html": [
              "<div>\n",
              "<style scoped>\n",
              "    .dataframe tbody tr th:only-of-type {\n",
              "        vertical-align: middle;\n",
              "    }\n",
              "\n",
              "    .dataframe tbody tr th {\n",
              "        vertical-align: top;\n",
              "    }\n",
              "\n",
              "    .dataframe thead th {\n",
              "        text-align: right;\n",
              "    }\n",
              "</style>\n",
              "<table border=\"1\" class=\"dataframe\">\n",
              "  <thead>\n",
              "    <tr style=\"text-align: right;\">\n",
              "      <th></th>\n",
              "      <th>molecule</th>\n",
              "    </tr>\n",
              "  </thead>\n",
              "  <tbody>\n",
              "    <tr>\n",
              "      <th>2054</th>\n",
              "      <td>&lt;rdkit.Chem.rdchem.Mol object at 0x7f12f644fe60&gt;</td>\n",
              "    </tr>\n",
              "    <tr>\n",
              "      <th>2055</th>\n",
              "      <td>&lt;rdkit.Chem.rdchem.Mol object at 0x7f12f644fed0&gt;</td>\n",
              "    </tr>\n",
              "    <tr>\n",
              "      <th>2056</th>\n",
              "      <td>&lt;rdkit.Chem.rdchem.Mol object at 0x7f12f644fdf0&gt;</td>\n",
              "    </tr>\n",
              "    <tr>\n",
              "      <th>2057</th>\n",
              "      <td>&lt;rdkit.Chem.rdchem.Mol object at 0x7f12f644fd80&gt;</td>\n",
              "    </tr>\n",
              "    <tr>\n",
              "      <th>2058</th>\n",
              "      <td>&lt;rdkit.Chem.rdchem.Mol object at 0x7f12f644fd10&gt;</td>\n",
              "    </tr>\n",
              "  </tbody>\n",
              "</table>\n",
              "</div>"
            ],
            "text/plain": [
              "                                              molecule\n",
              "2054  <rdkit.Chem.rdchem.Mol object at 0x7f12f644fe60>\n",
              "2055  <rdkit.Chem.rdchem.Mol object at 0x7f12f644fed0>\n",
              "2056  <rdkit.Chem.rdchem.Mol object at 0x7f12f644fdf0>\n",
              "2057  <rdkit.Chem.rdchem.Mol object at 0x7f12f644fd80>\n",
              "2058  <rdkit.Chem.rdchem.Mol object at 0x7f12f644fd10>"
            ]
          },
          "execution_count": 3,
          "metadata": {},
          "output_type": "execute_result"
        }
      ],
      "source": [
        "train_data = pd.read_csv('SGNN_dataset.csv')\n",
        "train_data = train_data[train_data['dataset_type'] == 'train']\n",
        "y_train = train_data['logp']\n",
        "train_data = pd.DataFrame(train_data['molecule'].map(lambda x: Chem.MolFromSmiles(x)))\n",
        "train_data.head()"
      ]
    },
    {
      "cell_type": "code",
      "execution_count": 4,
      "metadata": {},
      "outputs": [
        {
          "data": {
            "text/html": [
              "<div>\n",
              "<style scoped>\n",
              "    .dataframe tbody tr th:only-of-type {\n",
              "        vertical-align: middle;\n",
              "    }\n",
              "\n",
              "    .dataframe tbody tr th {\n",
              "        vertical-align: top;\n",
              "    }\n",
              "\n",
              "    .dataframe thead th {\n",
              "        text-align: right;\n",
              "    }\n",
              "</style>\n",
              "<table border=\"1\" class=\"dataframe\">\n",
              "  <thead>\n",
              "    <tr style=\"text-align: right;\">\n",
              "      <th></th>\n",
              "      <th>molecule</th>\n",
              "    </tr>\n",
              "  </thead>\n",
              "  <tbody>\n",
              "    <tr>\n",
              "      <th>11635</th>\n",
              "      <td>&lt;rdkit.Chem.rdchem.Mol object at 0x7f12f709a110&gt;</td>\n",
              "    </tr>\n",
              "    <tr>\n",
              "      <th>11636</th>\n",
              "      <td>&lt;rdkit.Chem.rdchem.Mol object at 0x7f12f709a180&gt;</td>\n",
              "    </tr>\n",
              "    <tr>\n",
              "      <th>11637</th>\n",
              "      <td>&lt;rdkit.Chem.rdchem.Mol object at 0x7f12f709a0a0&gt;</td>\n",
              "    </tr>\n",
              "    <tr>\n",
              "      <th>11638</th>\n",
              "      <td>&lt;rdkit.Chem.rdchem.Mol object at 0x7f12f709a030&gt;</td>\n",
              "    </tr>\n",
              "    <tr>\n",
              "      <th>11639</th>\n",
              "      <td>&lt;rdkit.Chem.rdchem.Mol object at 0x7f12f7099fc0&gt;</td>\n",
              "    </tr>\n",
              "  </tbody>\n",
              "</table>\n",
              "</div>"
            ],
            "text/plain": [
              "                                               molecule\n",
              "11635  <rdkit.Chem.rdchem.Mol object at 0x7f12f709a110>\n",
              "11636  <rdkit.Chem.rdchem.Mol object at 0x7f12f709a180>\n",
              "11637  <rdkit.Chem.rdchem.Mol object at 0x7f12f709a0a0>\n",
              "11638  <rdkit.Chem.rdchem.Mol object at 0x7f12f709a030>\n",
              "11639  <rdkit.Chem.rdchem.Mol object at 0x7f12f7099fc0>"
            ]
          },
          "execution_count": 4,
          "metadata": {},
          "output_type": "execute_result"
        }
      ],
      "source": [
        "test_data = pd.read_csv('SGNN_dataset.csv')\n",
        "test_data = test_data[test_data['dataset_type'] == 'test']\n",
        "y_test = test_data['logp']\n",
        "test_data = pd.DataFrame(test_data['molecule'].map(lambda x: Chem.MolFromSmiles(x)))\n",
        "test_data.head()"
      ]
    },
    {
      "cell_type": "code",
      "execution_count": 5,
      "metadata": {},
      "outputs": [
        {
          "name": "stdout",
          "output_type": "stream",
          "text": [
            "(9581, 14)\n",
            "(2053, 14)\n"
          ]
        }
      ],
      "source": [
        "ConstDescriptors = {\"HeavyAtomCount\": Descriptors.HeavyAtomCount,\n",
        "                    \"NHOHCount\": Descriptors.NHOHCount,\n",
        "                    \"NOCount\": Descriptors.NOCount,\n",
        "                    \"NumHAcceptors\": Descriptors.NumHAcceptors,\n",
        "                    \"NumHDonors\": Descriptors.NumHDonors,\n",
        "                    \"NumHeteroatoms\": Descriptors.NumHeteroatoms,\n",
        "                    \"NumRotatableBonds\": Descriptors.NumRotatableBonds,\n",
        "                    \"NumValenceElectrons\": Descriptors.NumValenceElectrons,\n",
        "                    \"NumAromaticRings\": Descriptors.NumAromaticRings,\n",
        "                    \"NumAliphaticHeterocycles\": Descriptors.NumAliphaticHeterocycles,\n",
        "                    \"RingCount\": Descriptors.RingCount}\n",
        "\n",
        "PhisChemDescriptors = {\"MW\": Descriptors.MolWt,\n",
        "                       \"MR\": Descriptors.MolMR,\n",
        "                       \"TPSA\": Descriptors.TPSA}\n",
        "\n",
        "descriptors = {}\n",
        "descriptors.update(ConstDescriptors)\n",
        "descriptors.update(PhisChemDescriptors)\n",
        "descriptors_names_list = [key for key in list(descriptors.keys())]\n",
        "\n",
        "def mol_dsc_calc(mols):\n",
        "    return pd.DataFrame({k: f(m) for k, f in descriptors.items()}\n",
        "             for m in array(mols).ravel())\n",
        "\n",
        "def descriptors_names(transformer, mol_dsc_calc_obj):\n",
        "    return [f'{key}' for key in list(descriptors.keys())]\n",
        "\n",
        "descriptors_transformer = FunctionTransformer(mol_dsc_calc, validate=False, feature_names_out=descriptors_names)\n",
        "\n",
        "features = ColumnTransformer([('descriptors', descriptors_transformer, [0])])\n",
        "\n",
        "X_train = features.fit_transform(train_data)\n",
        "X_test = features.fit_transform(test_data)\n",
        "print(X_train.shape)\n",
        "print(X_test.shape)"
      ]
    },
    {
      "cell_type": "code",
      "execution_count": 6,
      "metadata": {},
      "outputs": [
        {
          "data": {
            "text/plain": [
              "array([[ 18.   ,   4.   ,   8.   ,   7.   ,   4.   ,   8.   ,   2.   ,\n",
              "         96.   ,   2.   ,   1.   ,   3.   , 251.246,  59.353, 120.04 ]])"
            ]
          },
          "execution_count": 6,
          "metadata": {},
          "output_type": "execute_result"
        }
      ],
      "source": [
        "import numpy as np\n",
        "sub_indices = np.ix_([0])\n",
        "X_train[sub_indices]"
      ]
    },
    {
      "cell_type": "code",
      "execution_count": 7,
      "metadata": {},
      "outputs": [],
      "source": [
        "rfc = RandomForestRegressor(random_state=42)\n",
        "\n",
        "grid = GridSearchCV(rfc,{'max_depth': [30, 40, 50, 60, 70, 80, 90],\n",
        "                         'criterion': ['squared_error'],\n",
        "                         'n_estimators': [250, 300, 350, 400, 450, 500],\n",
        "                         'max_features': ['sqrt', 'log2']},\n",
        "                         cv=KFold(n_splits=5), verbose=1, scoring='r2', n_jobs=10)"
      ]
    },
    {
      "cell_type": "code",
      "execution_count": 8,
      "metadata": {},
      "outputs": [
        {
          "name": "stdout",
          "output_type": "stream",
          "text": [
            "Fitting 5 folds for each of 84 candidates, totalling 420 fits\n"
          ]
        },
        {
          "data": {
            "text/html": [
              "<style>#sk-container-id-1 {color: black;}#sk-container-id-1 pre{padding: 0;}#sk-container-id-1 div.sk-toggleable {background-color: white;}#sk-container-id-1 label.sk-toggleable__label {cursor: pointer;display: block;width: 100%;margin-bottom: 0;padding: 0.3em;box-sizing: border-box;text-align: center;}#sk-container-id-1 label.sk-toggleable__label-arrow:before {content: \"▸\";float: left;margin-right: 0.25em;color: #696969;}#sk-container-id-1 label.sk-toggleable__label-arrow:hover:before {color: black;}#sk-container-id-1 div.sk-estimator:hover label.sk-toggleable__label-arrow:before {color: black;}#sk-container-id-1 div.sk-toggleable__content {max-height: 0;max-width: 0;overflow: hidden;text-align: left;background-color: #f0f8ff;}#sk-container-id-1 div.sk-toggleable__content pre {margin: 0.2em;color: black;border-radius: 0.25em;background-color: #f0f8ff;}#sk-container-id-1 input.sk-toggleable__control:checked~div.sk-toggleable__content {max-height: 200px;max-width: 100%;overflow: auto;}#sk-container-id-1 input.sk-toggleable__control:checked~label.sk-toggleable__label-arrow:before {content: \"▾\";}#sk-container-id-1 div.sk-estimator input.sk-toggleable__control:checked~label.sk-toggleable__label {background-color: #d4ebff;}#sk-container-id-1 div.sk-label input.sk-toggleable__control:checked~label.sk-toggleable__label {background-color: #d4ebff;}#sk-container-id-1 input.sk-hidden--visually {border: 0;clip: rect(1px 1px 1px 1px);clip: rect(1px, 1px, 1px, 1px);height: 1px;margin: -1px;overflow: hidden;padding: 0;position: absolute;width: 1px;}#sk-container-id-1 div.sk-estimator {font-family: monospace;background-color: #f0f8ff;border: 1px dotted black;border-radius: 0.25em;box-sizing: border-box;margin-bottom: 0.5em;}#sk-container-id-1 div.sk-estimator:hover {background-color: #d4ebff;}#sk-container-id-1 div.sk-parallel-item::after {content: \"\";width: 100%;border-bottom: 1px solid gray;flex-grow: 1;}#sk-container-id-1 div.sk-label:hover label.sk-toggleable__label {background-color: #d4ebff;}#sk-container-id-1 div.sk-serial::before {content: \"\";position: absolute;border-left: 1px solid gray;box-sizing: border-box;top: 0;bottom: 0;left: 50%;z-index: 0;}#sk-container-id-1 div.sk-serial {display: flex;flex-direction: column;align-items: center;background-color: white;padding-right: 0.2em;padding-left: 0.2em;position: relative;}#sk-container-id-1 div.sk-item {position: relative;z-index: 1;}#sk-container-id-1 div.sk-parallel {display: flex;align-items: stretch;justify-content: center;background-color: white;position: relative;}#sk-container-id-1 div.sk-item::before, #sk-container-id-1 div.sk-parallel-item::before {content: \"\";position: absolute;border-left: 1px solid gray;box-sizing: border-box;top: 0;bottom: 0;left: 50%;z-index: -1;}#sk-container-id-1 div.sk-parallel-item {display: flex;flex-direction: column;z-index: 1;position: relative;background-color: white;}#sk-container-id-1 div.sk-parallel-item:first-child::after {align-self: flex-end;width: 50%;}#sk-container-id-1 div.sk-parallel-item:last-child::after {align-self: flex-start;width: 50%;}#sk-container-id-1 div.sk-parallel-item:only-child::after {width: 0;}#sk-container-id-1 div.sk-dashed-wrapped {border: 1px dashed gray;margin: 0 0.4em 0.5em 0.4em;box-sizing: border-box;padding-bottom: 0.4em;background-color: white;}#sk-container-id-1 div.sk-label label {font-family: monospace;font-weight: bold;display: inline-block;line-height: 1.2em;}#sk-container-id-1 div.sk-label-container {text-align: center;}#sk-container-id-1 div.sk-container {/* jupyter's `normalize.less` sets `[hidden] { display: none; }` but bootstrap.min.css set `[hidden] { display: none !important; }` so we also need the `!important` here to be able to override the default hidden behavior on the sphinx rendered scikit-learn.org. See: https://github.com/scikit-learn/scikit-learn/issues/21755 */display: inline-block !important;position: relative;}#sk-container-id-1 div.sk-text-repr-fallback {display: none;}</style><div id=\"sk-container-id-1\" class=\"sk-top-container\"><div class=\"sk-text-repr-fallback\"><pre>RandomForestRegressor(max_depth=40, max_features=&#x27;sqrt&#x27;, n_estimators=450,\n",
              "                      random_state=42)</pre><b>In a Jupyter environment, please rerun this cell to show the HTML representation or trust the notebook. <br />On GitHub, the HTML representation is unable to render, please try loading this page with nbviewer.org.</b></div><div class=\"sk-container\" hidden><div class=\"sk-item\"><div class=\"sk-estimator sk-toggleable\"><input class=\"sk-toggleable__control sk-hidden--visually\" id=\"sk-estimator-id-1\" type=\"checkbox\" checked><label for=\"sk-estimator-id-1\" class=\"sk-toggleable__label sk-toggleable__label-arrow\">RandomForestRegressor</label><div class=\"sk-toggleable__content\"><pre>RandomForestRegressor(max_depth=40, max_features=&#x27;sqrt&#x27;, n_estimators=450,\n",
              "                      random_state=42)</pre></div></div></div></div></div>"
            ],
            "text/plain": [
              "RandomForestRegressor(max_depth=40, max_features='sqrt', n_estimators=450,\n",
              "                      random_state=42)"
            ]
          },
          "execution_count": 8,
          "metadata": {},
          "output_type": "execute_result"
        }
      ],
      "source": [
        "grid.fit(X_train, y_train)\n",
        "best_model = grid.best_estimator_\n",
        "best_model"
      ]
    },
    {
      "cell_type": "code",
      "execution_count": 9,
      "metadata": {},
      "outputs": [
        {
          "name": "stdout",
          "output_type": "stream",
          "text": [
            "Q²: 0.813\n",
            "RMSE: 0.811\n"
          ]
        }
      ],
      "source": [
        "y_pred = grid.predict(X_test)\n",
        "q2, rmse = r2_score(y_test, y_pred), mean_squared_error(y_test, y_pred, squared=False)\n",
        "print(f'Q\\N{SUPERSCRIPT TWO}: {q2:.3f}\\nRMSE: {rmse:.3f}')"
      ]
    },
    {
      "cell_type": "code",
      "execution_count": 10,
      "metadata": {},
      "outputs": [
        {
          "data": {
            "text/plain": [
              "{'bootstrap': True,\n",
              " 'ccp_alpha': 0.0,\n",
              " 'criterion': 'squared_error',\n",
              " 'max_depth': 40,\n",
              " 'max_features': 'sqrt',\n",
              " 'max_leaf_nodes': None,\n",
              " 'max_samples': None,\n",
              " 'min_impurity_decrease': 0.0,\n",
              " 'min_samples_leaf': 1,\n",
              " 'min_samples_split': 2,\n",
              " 'min_weight_fraction_leaf': 0.0,\n",
              " 'n_estimators': 450,\n",
              " 'n_jobs': None,\n",
              " 'oob_score': False,\n",
              " 'random_state': 42,\n",
              " 'verbose': 0,\n",
              " 'warm_start': False}"
            ]
          },
          "execution_count": 10,
          "metadata": {},
          "output_type": "execute_result"
        }
      ],
      "source": [
        "grid.best_estimator_.get_params()"
      ]
    },
    {
      "cell_type": "code",
      "execution_count": 11,
      "metadata": {},
      "outputs": [
        {
          "name": "stdout",
          "output_type": "stream",
          "text": [
            "R²: 0.806\n"
          ]
        }
      ],
      "source": [
        "print(f'R\\N{SUPERSCRIPT TWO}: {grid.best_score_:.3f}')"
      ]
    },
    {
      "cell_type": "code",
      "execution_count": 12,
      "metadata": {},
      "outputs": [
        {
          "name": "stdout",
          "output_type": "stream",
          "text": [
            "Q²: 0.813\n"
          ]
        }
      ],
      "source": [
        "print(f'Q\\N{SUPERSCRIPT TWO}: {grid.score(X_test, y_test):.3f}')"
      ]
    },
    {
      "cell_type": "code",
      "execution_count": 13,
      "metadata": {},
      "outputs": [
        {
          "data": {
            "text/plain": [
              "['RF_RDKit_SGNN_train_Seed_42.joblib']"
            ]
          },
          "execution_count": 13,
          "metadata": {},
          "output_type": "execute_result"
        }
      ],
      "source": [
        "from joblib import dump, load\n",
        "dump(grid, 'RF_RDKit_SGNN_train_Seed_42.joblib', compress=3)"
      ]
    },
    {
      "cell_type": "code",
      "execution_count": null,
      "metadata": {},
      "outputs": [],
      "source": []
    }
  ],
  "metadata": {
    "colab": {
      "provenance": []
    },
    "kernelspec": {
      "display_name": "VKR_env",
      "language": "python",
      "name": "python3"
    },
    "language_info": {
      "codemirror_mode": {
        "name": "ipython",
        "version": 3
      },
      "file_extension": ".py",
      "mimetype": "text/x-python",
      "name": "python",
      "nbconvert_exporter": "python",
      "pygments_lexer": "ipython3",
      "version": "3.10.16"
    }
  },
  "nbformat": 4,
  "nbformat_minor": 4
}
