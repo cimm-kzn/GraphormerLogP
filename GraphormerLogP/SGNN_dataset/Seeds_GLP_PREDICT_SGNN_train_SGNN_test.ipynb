{
  "cells": [
    {
      "cell_type": "markdown",
      "metadata": {},
      "source": [
        "To run predictions, you first need to place the trained model file (.ckpt format) into the current directory"
      ]
    },
    {
      "cell_type": "code",
      "execution_count": 1,
      "metadata": {},
      "outputs": [],
      "source": [
        "import pytorch_lightning as pl\n",
        "import pandas as pd\n",
        "import torch.nn as nn\n",
        "import torch\n",
        "from chython import smiles\n",
        "from chytorch.utils.data import MoleculeDataset, chained_collate, collate_molecules\n",
        "from torch.utils.data import DataLoader, TensorDataset\n",
        "from model_p import Model, early_stop_callback, FeatureExtractorFreezeUnfreeze\n",
        "import numpy as np\n",
        "from sklearn.metrics import r2_score, mean_squared_error, mean_absolute_error\n",
        "from rdkit import Chem"
      ]
    },
    {
      "cell_type": "code",
      "execution_count": 2,
      "metadata": {},
      "outputs": [],
      "source": [
        "def prepare_mol(mol_smi):\n",
        "    try:\n",
        "        mol = smiles(mol_smi)\n",
        "        try:\n",
        "            mol.kekule()\n",
        "        except InvalidAromaticRing:\n",
        "            mol = None\n",
        "    except Exception:\n",
        "        mol = None\n",
        "    return mol"
      ]
    },
    {
      "cell_type": "code",
      "execution_count": 3,
      "metadata": {},
      "outputs": [],
      "source": [
        "def read_smiles_from_sdf(sdf_path):\n",
        "    suppl = Chem.SDMolSupplier(sdf_path)\n",
        "    smiles_set = set()\n",
        "    for mol in suppl:\n",
        "        if mol is not None:\n",
        "            smi = Chem.MolToSmiles(mol, isomericSmiles=True)\n",
        "            smiles_set.add(smi)\n",
        "    return smiles_set\n",
        "\n",
        "def normalize_smiles(smiles):\n",
        "    mol = Chem.MolFromSmiles(smiles)\n",
        "    if mol is not None:\n",
        "        return Chem.MolToSmiles(mol, isomericSmiles=True)\n",
        "    return None"
      ]
    },
    {
      "cell_type": "code",
      "execution_count": 4,
      "metadata": {},
      "outputs": [],
      "source": [
        "df = pd.read_csv('SGNN_dataset.csv')\n",
        "df = df[['molecule', 'logp', 'dataset_type']]\n",
        "df = df[df['dataset_type']=='test']"
      ]
    },
    {
      "cell_type": "code",
      "execution_count": 5,
      "metadata": {},
      "outputs": [
        {
          "data": {
            "text/html": [
              "<div>\n",
              "<style scoped>\n",
              "    .dataframe tbody tr th:only-of-type {\n",
              "        vertical-align: middle;\n",
              "    }\n",
              "\n",
              "    .dataframe tbody tr th {\n",
              "        vertical-align: top;\n",
              "    }\n",
              "\n",
              "    .dataframe thead th {\n",
              "        text-align: right;\n",
              "    }\n",
              "</style>\n",
              "<table border=\"1\" class=\"dataframe\">\n",
              "  <thead>\n",
              "    <tr style=\"text-align: right;\">\n",
              "      <th></th>\n",
              "      <th>molecule</th>\n",
              "      <th>logp</th>\n",
              "      <th>dataset_type</th>\n",
              "    </tr>\n",
              "  </thead>\n",
              "  <tbody>\n",
              "    <tr>\n",
              "      <th>11635</th>\n",
              "      <td>c1cc2ccc3ccc4ccc5ccc6ccc1c1c2c3c4c5c61</td>\n",
              "      <td>7.64</td>\n",
              "      <td>test</td>\n",
              "    </tr>\n",
              "    <tr>\n",
              "      <th>11636</th>\n",
              "      <td>CCC1(CC)C(=O)NC(=S)NC1=O</td>\n",
              "      <td>1.50</td>\n",
              "      <td>test</td>\n",
              "    </tr>\n",
              "    <tr>\n",
              "      <th>11637</th>\n",
              "      <td>COC(=O)C(C#N)=NNc1ccc(Cl)c(C(F)F)c1</td>\n",
              "      <td>3.80</td>\n",
              "      <td>test</td>\n",
              "    </tr>\n",
              "    <tr>\n",
              "      <th>11638</th>\n",
              "      <td>CC(=O)C=Cc1ccccc1</td>\n",
              "      <td>2.07</td>\n",
              "      <td>test</td>\n",
              "    </tr>\n",
              "    <tr>\n",
              "      <th>11639</th>\n",
              "      <td>Cc1ccc2cccc(O)c2n1</td>\n",
              "      <td>2.33</td>\n",
              "      <td>test</td>\n",
              "    </tr>\n",
              "    <tr>\n",
              "      <th>...</th>\n",
              "      <td>...</td>\n",
              "      <td>...</td>\n",
              "      <td>...</td>\n",
              "    </tr>\n",
              "    <tr>\n",
              "      <th>13683</th>\n",
              "      <td>N#CNc1ccccc1</td>\n",
              "      <td>1.87</td>\n",
              "      <td>test</td>\n",
              "    </tr>\n",
              "    <tr>\n",
              "      <th>13684</th>\n",
              "      <td>NS(=O)(=O)c1ccc(S(=O)(=O)CCO)s1</td>\n",
              "      <td>-0.54</td>\n",
              "      <td>test</td>\n",
              "    </tr>\n",
              "    <tr>\n",
              "      <th>13685</th>\n",
              "      <td>CCCCC(NC(Cc1ccccc1)C(=O)N1CCC(OCOC)CC1)C(=O)NC...</td>\n",
              "      <td>3.50</td>\n",
              "      <td>test</td>\n",
              "    </tr>\n",
              "    <tr>\n",
              "      <th>13686</th>\n",
              "      <td>O=C(COc1ccc2ccccc2c1)N1CCN(S(=O)(=O)c2ccc3c(c2...</td>\n",
              "      <td>4.47</td>\n",
              "      <td>test</td>\n",
              "    </tr>\n",
              "    <tr>\n",
              "      <th>13687</th>\n",
              "      <td>CCN1CCCC1CNC(=O)c1cc(S(N)(=O)=O)ccc1OC</td>\n",
              "      <td>0.57</td>\n",
              "      <td>test</td>\n",
              "    </tr>\n",
              "  </tbody>\n",
              "</table>\n",
              "<p>2053 rows × 3 columns</p>\n",
              "</div>"
            ],
            "text/plain": [
              "                                                molecule  logp dataset_type\n",
              "11635             c1cc2ccc3ccc4ccc5ccc6ccc1c1c2c3c4c5c61  7.64         test\n",
              "11636                           CCC1(CC)C(=O)NC(=S)NC1=O  1.50         test\n",
              "11637                COC(=O)C(C#N)=NNc1ccc(Cl)c(C(F)F)c1  3.80         test\n",
              "11638                                  CC(=O)C=Cc1ccccc1  2.07         test\n",
              "11639                                 Cc1ccc2cccc(O)c2n1  2.33         test\n",
              "...                                                  ...   ...          ...\n",
              "13683                                       N#CNc1ccccc1  1.87         test\n",
              "13684                    NS(=O)(=O)c1ccc(S(=O)(=O)CCO)s1 -0.54         test\n",
              "13685  CCCCC(NC(Cc1ccccc1)C(=O)N1CCC(OCOC)CC1)C(=O)NC...  3.50         test\n",
              "13686  O=C(COc1ccc2ccccc2c1)N1CCN(S(=O)(=O)c2ccc3c(c2...  4.47         test\n",
              "13687             CCN1CCCC1CNC(=O)c1cc(S(N)(=O)=O)ccc1OC  0.57         test\n",
              "\n",
              "[2053 rows x 3 columns]"
            ]
          },
          "execution_count": 5,
          "metadata": {},
          "output_type": "execute_result"
        }
      ],
      "source": [
        "df"
      ]
    },
    {
      "cell_type": "code",
      "execution_count": 6,
      "metadata": {},
      "outputs": [],
      "source": [
        "X_test = df['molecule']\n",
        "X_test = X_test.apply(prepare_mol)\n",
        "y_test = df['logp']"
      ]
    },
    {
      "cell_type": "code",
      "execution_count": 7,
      "metadata": {},
      "outputs": [
        {
          "data": {
            "text/plain": [
              "11635    7.64\n",
              "11636    1.50\n",
              "11637    3.80\n",
              "11638    2.07\n",
              "11639    2.33\n",
              "         ... \n",
              "13683    1.87\n",
              "13684   -0.54\n",
              "13685    3.50\n",
              "13686    4.47\n",
              "13687    0.57\n",
              "Name: logp, Length: 2053, dtype: float64"
            ]
          },
          "execution_count": 7,
          "metadata": {},
          "output_type": "execute_result"
        }
      ],
      "source": [
        "y_test"
      ]
    },
    {
      "cell_type": "code",
      "execution_count": 8,
      "metadata": {},
      "outputs": [],
      "source": [
        "mols = X_test.to_list()\n",
        "X_test = MoleculeDataset(mols)\n",
        "y_test  = torch.Tensor(y_test.to_numpy())"
      ]
    },
    {
      "cell_type": "code",
      "execution_count": 9,
      "metadata": {},
      "outputs": [
        {
          "data": {
            "text/plain": [
              "<chytorch.utils.data.molecule.encoder.MoleculeDataset at 0x7fe7f403a680>"
            ]
          },
          "execution_count": 9,
          "metadata": {},
          "output_type": "execute_result"
        }
      ],
      "source": [
        "X_test"
      ]
    },
    {
      "cell_type": "code",
      "execution_count": 10,
      "metadata": {},
      "outputs": [
        {
          "data": {
            "text/plain": [
              "torch.Size([2053])"
            ]
          },
          "execution_count": 10,
          "metadata": {},
          "output_type": "execute_result"
        }
      ],
      "source": [
        "y_test.shape"
      ]
    },
    {
      "cell_type": "code",
      "execution_count": 11,
      "metadata": {},
      "outputs": [],
      "source": [
        "seed = 42\n",
        "model = Model.load_from_checkpoint(\"GraphormerLogP_SGNN_train_42.ckpt\", loss_function=nn.HuberLoss(), learning_rate=4e-4)"
      ]
    },
    {
      "cell_type": "code",
      "execution_count": 12,
      "metadata": {},
      "outputs": [
        {
          "name": "stderr",
          "output_type": "stream",
          "text": [
            "GPU available: True (cuda), used: True\n",
            "TPU available: False, using: 0 TPU cores\n",
            "IPU available: False, using: 0 IPUs\n",
            "HPU available: False, using: 0 HPUs\n",
            "/home/slavick/miniconda3/envs/logP_env/lib/python3.10/site-packages/pytorch_lightning/trainer/connectors/logger_connector/logger_connector.py:75: Starting from v1.9.0, `tensorboardX` has been removed as a dependency of the `pytorch_lightning` package, due to potential conflicts with other packages in the ML ecosystem. For this reason, `logger=True` will use `CSVLogger` as the default logger, unless the `tensorboard` or `tensorboardX` packages are found. Please `pip install lightning[extra]` or one of them to enable TensorBoard support by default\n",
            "Missing logger folder: /home/slavick/Test_GLP/GraphormerLogP/SGNN_dataset/lightning_logs\n",
            "LOCAL_RANK: 0 - CUDA_VISIBLE_DEVICES: [0]\n"
          ]
        },
        {
          "name": "stdout",
          "output_type": "stream",
          "text": [
            "Predicting DataLoader 0: 100%|██████████| 65/65 [00:02<00:00, 22.24it/s]\n"
          ]
        }
      ],
      "source": [
        "test = DataLoader(\n",
        "            dataset=TensorDataset(X_test, y_test),\n",
        "            collate_fn=chained_collate(collate_molecules, torch.stack),\n",
        "            batch_size=32,\n",
        "            shuffle=False, num_workers=7)\n",
        "\n",
        "\n",
        "lr_monitor = pl.callbacks.LearningRateMonitor(logging_interval='epoch')\n",
        "trainer = pl.Trainer(accelerator='gpu', devices=1, min_epochs=50, max_epochs=500,\n",
        "                         callbacks=[FeatureExtractorFreezeUnfreeze(),\n",
        "                                    early_stop_callback, lr_monitor],\n",
        "                         check_val_every_n_epoch=5, log_every_n_steps=38)\n",
        "temp = trainer.predict(model, test)\n",
        "y_pred = []\n",
        "y_uncert = []\n",
        "for batch in temp:\n",
        "    preds, uncerts = batch\n",
        "    y_pred.extend(preds.squeeze().tolist())\n",
        "    y_uncert.extend(uncerts.squeeze().tolist())"
      ]
    },
    {
      "cell_type": "code",
      "execution_count": 13,
      "metadata": {},
      "outputs": [],
      "source": [
        "y_pred = torch.Tensor(np.array(y_pred))\n",
        "y_uncert = torch.Tensor(np.array(y_uncert))"
      ]
    },
    {
      "cell_type": "code",
      "execution_count": 14,
      "metadata": {},
      "outputs": [
        {
          "data": {
            "text/plain": [
              "(0.449, 0.943, 0.269)"
            ]
          },
          "execution_count": 14,
          "metadata": {},
          "output_type": "execute_result"
        }
      ],
      "source": [
        "r2 = r2_score(y_test, y_pred)\n",
        "rmse = np.sqrt(mean_squared_error(y_test, y_pred))\n",
        "mae = mean_absolute_error(y_test, y_pred)\n",
        "round(rmse, 3), round(r2, 3), round(mae, 3)"
      ]
    },
    {
      "cell_type": "code",
      "execution_count": 15,
      "metadata": {},
      "outputs": [],
      "source": [
        "y_pred.cpu().detach().numpy()\n",
        "y_uncert.cpu().detach().numpy()\n",
        "df[f'pred_logp_{seed}'] = y_pred\n",
        "df[f'pred_uncert_{seed}'] = np.sqrt(np.exp(y_uncert))"
      ]
    },
    {
      "cell_type": "code",
      "execution_count": 16,
      "metadata": {},
      "outputs": [
        {
          "data": {
            "text/html": [
              "<div>\n",
              "<style scoped>\n",
              "    .dataframe tbody tr th:only-of-type {\n",
              "        vertical-align: middle;\n",
              "    }\n",
              "\n",
              "    .dataframe tbody tr th {\n",
              "        vertical-align: top;\n",
              "    }\n",
              "\n",
              "    .dataframe thead th {\n",
              "        text-align: right;\n",
              "    }\n",
              "</style>\n",
              "<table border=\"1\" class=\"dataframe\">\n",
              "  <thead>\n",
              "    <tr style=\"text-align: right;\">\n",
              "      <th></th>\n",
              "      <th>molecule</th>\n",
              "      <th>logp</th>\n",
              "      <th>dataset_type</th>\n",
              "      <th>pred_logp_42</th>\n",
              "      <th>pred_uncert_42</th>\n",
              "    </tr>\n",
              "  </thead>\n",
              "  <tbody>\n",
              "    <tr>\n",
              "      <th>11635</th>\n",
              "      <td>c1cc2ccc3ccc4ccc5ccc6ccc1c1c2c3c4c5c61</td>\n",
              "      <td>7.64</td>\n",
              "      <td>test</td>\n",
              "      <td>7.816697</td>\n",
              "      <td>0.422802</td>\n",
              "    </tr>\n",
              "    <tr>\n",
              "      <th>11636</th>\n",
              "      <td>CCC1(CC)C(=O)NC(=S)NC1=O</td>\n",
              "      <td>1.50</td>\n",
              "      <td>test</td>\n",
              "      <td>1.432274</td>\n",
              "      <td>0.086676</td>\n",
              "    </tr>\n",
              "    <tr>\n",
              "      <th>11637</th>\n",
              "      <td>COC(=O)C(C#N)=NNc1ccc(Cl)c(C(F)F)c1</td>\n",
              "      <td>3.80</td>\n",
              "      <td>test</td>\n",
              "      <td>4.633056</td>\n",
              "      <td>0.213877</td>\n",
              "    </tr>\n",
              "    <tr>\n",
              "      <th>11638</th>\n",
              "      <td>CC(=O)C=Cc1ccccc1</td>\n",
              "      <td>2.07</td>\n",
              "      <td>test</td>\n",
              "      <td>2.000278</td>\n",
              "      <td>0.083664</td>\n",
              "    </tr>\n",
              "    <tr>\n",
              "      <th>11639</th>\n",
              "      <td>Cc1ccc2cccc(O)c2n1</td>\n",
              "      <td>2.33</td>\n",
              "      <td>test</td>\n",
              "      <td>2.300541</td>\n",
              "      <td>0.106845</td>\n",
              "    </tr>\n",
              "    <tr>\n",
              "      <th>...</th>\n",
              "      <td>...</td>\n",
              "      <td>...</td>\n",
              "      <td>...</td>\n",
              "      <td>...</td>\n",
              "      <td>...</td>\n",
              "    </tr>\n",
              "    <tr>\n",
              "      <th>13683</th>\n",
              "      <td>N#CNc1ccccc1</td>\n",
              "      <td>1.87</td>\n",
              "      <td>test</td>\n",
              "      <td>1.424028</td>\n",
              "      <td>0.081981</td>\n",
              "    </tr>\n",
              "    <tr>\n",
              "      <th>13684</th>\n",
              "      <td>NS(=O)(=O)c1ccc(S(=O)(=O)CCO)s1</td>\n",
              "      <td>-0.54</td>\n",
              "      <td>test</td>\n",
              "      <td>-0.552294</td>\n",
              "      <td>0.111033</td>\n",
              "    </tr>\n",
              "    <tr>\n",
              "      <th>13685</th>\n",
              "      <td>CCCCC(NC(Cc1ccccc1)C(=O)N1CCC(OCOC)CC1)C(=O)NC...</td>\n",
              "      <td>3.50</td>\n",
              "      <td>test</td>\n",
              "      <td>3.916647</td>\n",
              "      <td>0.199682</td>\n",
              "    </tr>\n",
              "    <tr>\n",
              "      <th>13686</th>\n",
              "      <td>O=C(COc1ccc2ccccc2c1)N1CCN(S(=O)(=O)c2ccc3c(c2...</td>\n",
              "      <td>4.47</td>\n",
              "      <td>test</td>\n",
              "      <td>4.558833</td>\n",
              "      <td>0.210158</td>\n",
              "    </tr>\n",
              "    <tr>\n",
              "      <th>13687</th>\n",
              "      <td>CCN1CCCC1CNC(=O)c1cc(S(N)(=O)=O)ccc1OC</td>\n",
              "      <td>0.57</td>\n",
              "      <td>test</td>\n",
              "      <td>0.679214</td>\n",
              "      <td>0.080696</td>\n",
              "    </tr>\n",
              "  </tbody>\n",
              "</table>\n",
              "<p>2053 rows × 5 columns</p>\n",
              "</div>"
            ],
            "text/plain": [
              "                                                molecule  logp dataset_type  \\\n",
              "11635             c1cc2ccc3ccc4ccc5ccc6ccc1c1c2c3c4c5c61  7.64         test   \n",
              "11636                           CCC1(CC)C(=O)NC(=S)NC1=O  1.50         test   \n",
              "11637                COC(=O)C(C#N)=NNc1ccc(Cl)c(C(F)F)c1  3.80         test   \n",
              "11638                                  CC(=O)C=Cc1ccccc1  2.07         test   \n",
              "11639                                 Cc1ccc2cccc(O)c2n1  2.33         test   \n",
              "...                                                  ...   ...          ...   \n",
              "13683                                       N#CNc1ccccc1  1.87         test   \n",
              "13684                    NS(=O)(=O)c1ccc(S(=O)(=O)CCO)s1 -0.54         test   \n",
              "13685  CCCCC(NC(Cc1ccccc1)C(=O)N1CCC(OCOC)CC1)C(=O)NC...  3.50         test   \n",
              "13686  O=C(COc1ccc2ccccc2c1)N1CCN(S(=O)(=O)c2ccc3c(c2...  4.47         test   \n",
              "13687             CCN1CCCC1CNC(=O)c1cc(S(N)(=O)=O)ccc1OC  0.57         test   \n",
              "\n",
              "       pred_logp_42  pred_uncert_42  \n",
              "11635      7.816697        0.422802  \n",
              "11636      1.432274        0.086676  \n",
              "11637      4.633056        0.213877  \n",
              "11638      2.000278        0.083664  \n",
              "11639      2.300541        0.106845  \n",
              "...             ...             ...  \n",
              "13683      1.424028        0.081981  \n",
              "13684     -0.552294        0.111033  \n",
              "13685      3.916647        0.199682  \n",
              "13686      4.558833        0.210158  \n",
              "13687      0.679214        0.080696  \n",
              "\n",
              "[2053 rows x 5 columns]"
            ]
          },
          "execution_count": 16,
          "metadata": {},
          "output_type": "execute_result"
        }
      ],
      "source": [
        "df.to_csv('Seeds_GLP_PREDICT_SGNN_train_SGNN_test.csv', index=False)\n",
        "df"
      ]
    },
    {
      "cell_type": "code",
      "execution_count": 17,
      "metadata": {},
      "outputs": [
        {
          "data": {
            "text/plain": [
              "(0.449, 0.943, 0.269)"
            ]
          },
          "execution_count": 17,
          "metadata": {},
          "output_type": "execute_result"
        }
      ],
      "source": [
        "y_pred_mean = torch.Tensor(np.array(df['pred_logp_42']))\n",
        "r2 = r2_score(y_test, y_pred_mean)\n",
        "rmse = np.sqrt(mean_squared_error(y_test, y_pred_mean))\n",
        "mae = mean_absolute_error(y_test, y_pred_mean)\n",
        "round(rmse, 3), round(r2, 3), round(mae, 3)"
      ]
    }
  ],
  "metadata": {
    "kernelspec": {
      "display_name": "logP_env",
      "language": "python",
      "name": "python3"
    },
    "language_info": {
      "codemirror_mode": {
        "name": "ipython",
        "version": 3
      },
      "file_extension": ".py",
      "mimetype": "text/x-python",
      "name": "python",
      "nbconvert_exporter": "python",
      "pygments_lexer": "ipython3",
      "version": "3.10.14"
    }
  },
  "nbformat": 4,
  "nbformat_minor": 2
}
