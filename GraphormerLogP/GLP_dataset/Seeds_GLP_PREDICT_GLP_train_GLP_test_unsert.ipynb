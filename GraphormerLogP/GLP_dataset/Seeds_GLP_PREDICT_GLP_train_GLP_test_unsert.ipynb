{
  "cells": [
    {
      "cell_type": "markdown",
      "metadata": {},
      "source": [
        "To run predictions, you first need to place the trained model file (.ckpt format) into the current directory"
      ]
    },
    {
      "cell_type": "code",
      "execution_count": 1,
      "metadata": {},
      "outputs": [],
      "source": [
        "import pytorch_lightning as pl\n",
        "import pandas as pd\n",
        "import torch.nn as nn\n",
        "import torch\n",
        "from chython import smiles\n",
        "from chytorch.utils.data import MoleculeDataset, chained_collate, collate_molecules\n",
        "from torch.utils.data import DataLoader, TensorDataset\n",
        "from model_p import Model, early_stop_callback, FeatureExtractorFreezeUnfreeze\n",
        "import numpy as np\n",
        "from sklearn.metrics import r2_score, mean_squared_error, mean_absolute_error\n",
        "from rdkit import Chem"
      ]
    },
    {
      "cell_type": "code",
      "execution_count": 2,
      "metadata": {},
      "outputs": [],
      "source": [
        "def prepare_mol(mol_smi):\n",
        "    try:\n",
        "        mol = smiles(mol_smi)\n",
        "        try:\n",
        "            mol.kekule()\n",
        "        except InvalidAromaticRing:\n",
        "            mol = None\n",
        "    except Exception:\n",
        "        mol = None\n",
        "    return mol"
      ]
    },
    {
      "cell_type": "code",
      "execution_count": 3,
      "metadata": {},
      "outputs": [],
      "source": [
        "def read_smiles_from_sdf(sdf_path):\n",
        "    suppl = Chem.SDMolSupplier(sdf_path)\n",
        "    smiles_set = set()\n",
        "    for mol in suppl:\n",
        "        if mol is not None:\n",
        "            smi = Chem.MolToSmiles(mol, isomericSmiles=True)\n",
        "            smiles_set.add(smi)\n",
        "    return smiles_set\n",
        "\n",
        "def normalize_smiles(smiles):\n",
        "    mol = Chem.MolFromSmiles(smiles)\n",
        "    if mol is not None:\n",
        "        return Chem.MolToSmiles(mol, isomericSmiles=True)\n",
        "    return None"
      ]
    },
    {
      "cell_type": "code",
      "execution_count": 4,
      "metadata": {},
      "outputs": [],
      "source": [
        "df = pd.read_csv('GLP_dataset.csv')\n",
        "df = df[['molecule', 'logp', 'dataset_type']]\n",
        "df = df[df['dataset_type']=='test']"
      ]
    },
    {
      "cell_type": "code",
      "execution_count": 5,
      "metadata": {},
      "outputs": [
        {
          "data": {
            "text/html": [
              "<div>\n",
              "<style scoped>\n",
              "    .dataframe tbody tr th:only-of-type {\n",
              "        vertical-align: middle;\n",
              "    }\n",
              "\n",
              "    .dataframe tbody tr th {\n",
              "        vertical-align: top;\n",
              "    }\n",
              "\n",
              "    .dataframe thead th {\n",
              "        text-align: right;\n",
              "    }\n",
              "</style>\n",
              "<table border=\"1\" class=\"dataframe\">\n",
              "  <thead>\n",
              "    <tr style=\"text-align: right;\">\n",
              "      <th></th>\n",
              "      <th>molecule</th>\n",
              "      <th>logp</th>\n",
              "      <th>dataset_type</th>\n",
              "    </tr>\n",
              "  </thead>\n",
              "  <tbody>\n",
              "    <tr>\n",
              "      <th>4</th>\n",
              "      <td>BrC(Br)C(Br)Br</td>\n",
              "      <td>2.55</td>\n",
              "      <td>test</td>\n",
              "    </tr>\n",
              "    <tr>\n",
              "      <th>40</th>\n",
              "      <td>BrCCCCCCCBr</td>\n",
              "      <td>4.47</td>\n",
              "      <td>test</td>\n",
              "    </tr>\n",
              "    <tr>\n",
              "      <th>53</th>\n",
              "      <td>BrCCN(CCBr)c1ccccc1</td>\n",
              "      <td>3.84</td>\n",
              "      <td>test</td>\n",
              "    </tr>\n",
              "    <tr>\n",
              "      <th>80</th>\n",
              "      <td>Brc1cc(Br)c(Br)c(Br)c1</td>\n",
              "      <td>5.55</td>\n",
              "      <td>test</td>\n",
              "    </tr>\n",
              "    <tr>\n",
              "      <th>83</th>\n",
              "      <td>Brc1cc(Br)c(Br)s1</td>\n",
              "      <td>4.48</td>\n",
              "      <td>test</td>\n",
              "    </tr>\n",
              "    <tr>\n",
              "      <th>...</th>\n",
              "      <td>...</td>\n",
              "      <td>...</td>\n",
              "      <td>...</td>\n",
              "    </tr>\n",
              "    <tr>\n",
              "      <th>41929</th>\n",
              "      <td>c1ccc2nonc2c1</td>\n",
              "      <td>1.69</td>\n",
              "      <td>test</td>\n",
              "    </tr>\n",
              "    <tr>\n",
              "      <th>41958</th>\n",
              "      <td>c1cnc2cscc2c1</td>\n",
              "      <td>1.74</td>\n",
              "      <td>test</td>\n",
              "    </tr>\n",
              "    <tr>\n",
              "      <th>41963</th>\n",
              "      <td>c1cncc(-c2ccnc(-c3cccnc3)c2)c1</td>\n",
              "      <td>1.96</td>\n",
              "      <td>test</td>\n",
              "    </tr>\n",
              "    <tr>\n",
              "      <th>41968</th>\n",
              "      <td>c1cncc(CCN2CCCCC2)c1</td>\n",
              "      <td>1.66</td>\n",
              "      <td>test</td>\n",
              "    </tr>\n",
              "    <tr>\n",
              "      <th>41995</th>\n",
              "      <td>c1nc(N2CCCCC2)c2[nH]cnc2n1</td>\n",
              "      <td>2.11</td>\n",
              "      <td>test</td>\n",
              "    </tr>\n",
              "  </tbody>\n",
              "</table>\n",
              "<p>6301 rows × 3 columns</p>\n",
              "</div>"
            ],
            "text/plain": [
              "                             molecule  logp dataset_type\n",
              "4                      BrC(Br)C(Br)Br  2.55         test\n",
              "40                        BrCCCCCCCBr  4.47         test\n",
              "53                BrCCN(CCBr)c1ccccc1  3.84         test\n",
              "80             Brc1cc(Br)c(Br)c(Br)c1  5.55         test\n",
              "83                  Brc1cc(Br)c(Br)s1  4.48         test\n",
              "...                               ...   ...          ...\n",
              "41929                   c1ccc2nonc2c1  1.69         test\n",
              "41958                   c1cnc2cscc2c1  1.74         test\n",
              "41963  c1cncc(-c2ccnc(-c3cccnc3)c2)c1  1.96         test\n",
              "41968            c1cncc(CCN2CCCCC2)c1  1.66         test\n",
              "41995      c1nc(N2CCCCC2)c2[nH]cnc2n1  2.11         test\n",
              "\n",
              "[6301 rows x 3 columns]"
            ]
          },
          "execution_count": 5,
          "metadata": {},
          "output_type": "execute_result"
        }
      ],
      "source": [
        "df"
      ]
    },
    {
      "cell_type": "code",
      "execution_count": 6,
      "metadata": {},
      "outputs": [],
      "source": [
        "X_test = df['molecule']\n",
        "X_test = X_test.apply(prepare_mol)\n",
        "y_test = df['logp']"
      ]
    },
    {
      "cell_type": "code",
      "execution_count": 7,
      "metadata": {},
      "outputs": [
        {
          "data": {
            "text/plain": [
              "4        2.55\n",
              "40       4.47\n",
              "53       3.84\n",
              "80       5.55\n",
              "83       4.48\n",
              "         ... \n",
              "41929    1.69\n",
              "41958    1.74\n",
              "41963    1.96\n",
              "41968    1.66\n",
              "41995    2.11\n",
              "Name: logp, Length: 6301, dtype: float64"
            ]
          },
          "execution_count": 7,
          "metadata": {},
          "output_type": "execute_result"
        }
      ],
      "source": [
        "y_test"
      ]
    },
    {
      "cell_type": "code",
      "execution_count": 8,
      "metadata": {},
      "outputs": [],
      "source": [
        "mols = X_test.to_list()\n",
        "X_test = MoleculeDataset(mols)\n",
        "y_test  = torch.Tensor(y_test.to_numpy())"
      ]
    },
    {
      "cell_type": "code",
      "execution_count": 9,
      "metadata": {},
      "outputs": [
        {
          "data": {
            "text/plain": [
              "<chytorch.utils.data.molecule.encoder.MoleculeDataset at 0x7fa3162eba00>"
            ]
          },
          "execution_count": 9,
          "metadata": {},
          "output_type": "execute_result"
        }
      ],
      "source": [
        "X_test"
      ]
    },
    {
      "cell_type": "code",
      "execution_count": 10,
      "metadata": {},
      "outputs": [
        {
          "data": {
            "text/plain": [
              "torch.Size([6301])"
            ]
          },
          "execution_count": 10,
          "metadata": {},
          "output_type": "execute_result"
        }
      ],
      "source": [
        "y_test.shape"
      ]
    },
    {
      "cell_type": "code",
      "execution_count": 11,
      "metadata": {},
      "outputs": [],
      "source": [
        "seed = 42\n",
        "model = Model.load_from_checkpoint(\"GraphormerLogP_GLP_train_42.ckpt\", loss_function=nn.HuberLoss(), learning_rate=4e-4)"
      ]
    },
    {
      "cell_type": "code",
      "execution_count": 12,
      "metadata": {},
      "outputs": [
        {
          "name": "stderr",
          "output_type": "stream",
          "text": [
            "GPU available: True (cuda), used: True\n",
            "TPU available: False, using: 0 TPU cores\n",
            "IPU available: False, using: 0 IPUs\n",
            "HPU available: False, using: 0 HPUs\n",
            "/home/slavick/miniconda3/envs/logP_env/lib/python3.10/site-packages/pytorch_lightning/trainer/connectors/logger_connector/logger_connector.py:75: Starting from v1.9.0, `tensorboardX` has been removed as a dependency of the `pytorch_lightning` package, due to potential conflicts with other packages in the ML ecosystem. For this reason, `logger=True` will use `CSVLogger` as the default logger, unless the `tensorboard` or `tensorboardX` packages are found. Please `pip install lightning[extra]` or one of them to enable TensorBoard support by default\n",
            "Missing logger folder: /home/slavick/Test_GLP/GraphormerLogP/GLP_dataset/lightning_logs\n",
            "LOCAL_RANK: 0 - CUDA_VISIBLE_DEVICES: [0]\n"
          ]
        },
        {
          "name": "stdout",
          "output_type": "stream",
          "text": [
            "Predicting DataLoader 0: 100%|██████████| 197/197 [00:07<00:00, 27.24it/s]\n"
          ]
        }
      ],
      "source": [
        "test = DataLoader(\n",
        "            dataset=TensorDataset(X_test, y_test),\n",
        "            collate_fn=chained_collate(collate_molecules, torch.stack),\n",
        "            batch_size=32,\n",
        "            shuffle=False, num_workers=7)\n",
        "\n",
        "\n",
        "lr_monitor = pl.callbacks.LearningRateMonitor(logging_interval='epoch')\n",
        "trainer = pl.Trainer(accelerator='gpu', devices=1, min_epochs=50, max_epochs=500,\n",
        "                         callbacks=[FeatureExtractorFreezeUnfreeze(),\n",
        "                                    early_stop_callback, lr_monitor],\n",
        "                         check_val_every_n_epoch=5, log_every_n_steps=38)\n",
        "temp = trainer.predict(model, test)\n",
        "y_pred = []\n",
        "y_uncert = []\n",
        "for batch in temp:\n",
        "    preds, uncerts = batch\n",
        "    y_pred.extend(preds.squeeze().tolist())\n",
        "    y_uncert.extend(uncerts.squeeze().tolist())"
      ]
    },
    {
      "cell_type": "code",
      "execution_count": 13,
      "metadata": {},
      "outputs": [],
      "source": [
        "y_pred = torch.Tensor(np.array(y_pred))\n",
        "y_uncert = torch.Tensor(np.array(y_uncert))"
      ]
    },
    {
      "cell_type": "code",
      "execution_count": 14,
      "metadata": {},
      "outputs": [
        {
          "data": {
            "text/plain": [
              "(0.436, 0.958, 0.253)"
            ]
          },
          "execution_count": 14,
          "metadata": {},
          "output_type": "execute_result"
        }
      ],
      "source": [
        "r2 = r2_score(y_test, y_pred)\n",
        "rmse = np.sqrt(mean_squared_error(y_test, y_pred))\n",
        "mae = mean_absolute_error(y_test, y_pred)\n",
        "round(rmse, 3), round(r2, 3), round(mae, 3)"
      ]
    },
    {
      "cell_type": "code",
      "execution_count": 15,
      "metadata": {},
      "outputs": [],
      "source": [
        "y_pred.cpu().detach().numpy()\n",
        "y_uncert.cpu().detach().numpy()\n",
        "df[f'pred_logp_{seed}'] = y_pred\n",
        "df[f'pred_uncert_{seed}'] = np.sqrt(np.exp(y_uncert))"
      ]
    },
    {
      "cell_type": "code",
      "execution_count": 16,
      "metadata": {},
      "outputs": [
        {
          "data": {
            "text/html": [
              "<div>\n",
              "<style scoped>\n",
              "    .dataframe tbody tr th:only-of-type {\n",
              "        vertical-align: middle;\n",
              "    }\n",
              "\n",
              "    .dataframe tbody tr th {\n",
              "        vertical-align: top;\n",
              "    }\n",
              "\n",
              "    .dataframe thead th {\n",
              "        text-align: right;\n",
              "    }\n",
              "</style>\n",
              "<table border=\"1\" class=\"dataframe\">\n",
              "  <thead>\n",
              "    <tr style=\"text-align: right;\">\n",
              "      <th></th>\n",
              "      <th>molecule</th>\n",
              "      <th>logp</th>\n",
              "      <th>dataset_type</th>\n",
              "      <th>pred_logp_42</th>\n",
              "      <th>pred_uncert_42</th>\n",
              "    </tr>\n",
              "  </thead>\n",
              "  <tbody>\n",
              "    <tr>\n",
              "      <th>4</th>\n",
              "      <td>BrC(Br)C(Br)Br</td>\n",
              "      <td>2.55</td>\n",
              "      <td>test</td>\n",
              "      <td>2.596970</td>\n",
              "      <td>0.121303</td>\n",
              "    </tr>\n",
              "    <tr>\n",
              "      <th>40</th>\n",
              "      <td>BrCCCCCCCBr</td>\n",
              "      <td>4.47</td>\n",
              "      <td>test</td>\n",
              "      <td>4.367506</td>\n",
              "      <td>0.177158</td>\n",
              "    </tr>\n",
              "    <tr>\n",
              "      <th>53</th>\n",
              "      <td>BrCCN(CCBr)c1ccccc1</td>\n",
              "      <td>3.84</td>\n",
              "      <td>test</td>\n",
              "      <td>3.583178</td>\n",
              "      <td>0.149329</td>\n",
              "    </tr>\n",
              "    <tr>\n",
              "      <th>80</th>\n",
              "      <td>Brc1cc(Br)c(Br)c(Br)c1</td>\n",
              "      <td>5.55</td>\n",
              "      <td>test</td>\n",
              "      <td>5.420713</td>\n",
              "      <td>0.251250</td>\n",
              "    </tr>\n",
              "    <tr>\n",
              "      <th>83</th>\n",
              "      <td>Brc1cc(Br)c(Br)s1</td>\n",
              "      <td>4.48</td>\n",
              "      <td>test</td>\n",
              "      <td>4.362076</td>\n",
              "      <td>0.186974</td>\n",
              "    </tr>\n",
              "    <tr>\n",
              "      <th>...</th>\n",
              "      <td>...</td>\n",
              "      <td>...</td>\n",
              "      <td>...</td>\n",
              "      <td>...</td>\n",
              "      <td>...</td>\n",
              "    </tr>\n",
              "    <tr>\n",
              "      <th>41929</th>\n",
              "      <td>c1ccc2nonc2c1</td>\n",
              "      <td>1.69</td>\n",
              "      <td>test</td>\n",
              "      <td>1.549164</td>\n",
              "      <td>0.089958</td>\n",
              "    </tr>\n",
              "    <tr>\n",
              "      <th>41958</th>\n",
              "      <td>c1cnc2cscc2c1</td>\n",
              "      <td>1.74</td>\n",
              "      <td>test</td>\n",
              "      <td>1.987525</td>\n",
              "      <td>0.110805</td>\n",
              "    </tr>\n",
              "    <tr>\n",
              "      <th>41963</th>\n",
              "      <td>c1cncc(-c2ccnc(-c3cccnc3)c2)c1</td>\n",
              "      <td>1.96</td>\n",
              "      <td>test</td>\n",
              "      <td>2.053985</td>\n",
              "      <td>0.122008</td>\n",
              "    </tr>\n",
              "    <tr>\n",
              "      <th>41968</th>\n",
              "      <td>c1cncc(CCN2CCCCC2)c1</td>\n",
              "      <td>1.66</td>\n",
              "      <td>test</td>\n",
              "      <td>1.926371</td>\n",
              "      <td>0.102949</td>\n",
              "    </tr>\n",
              "    <tr>\n",
              "      <th>41995</th>\n",
              "      <td>c1nc(N2CCCCC2)c2[nH]cnc2n1</td>\n",
              "      <td>2.11</td>\n",
              "      <td>test</td>\n",
              "      <td>2.096595</td>\n",
              "      <td>0.094560</td>\n",
              "    </tr>\n",
              "  </tbody>\n",
              "</table>\n",
              "<p>6301 rows × 5 columns</p>\n",
              "</div>"
            ],
            "text/plain": [
              "                             molecule  logp dataset_type  pred_logp_42  \\\n",
              "4                      BrC(Br)C(Br)Br  2.55         test      2.596970   \n",
              "40                        BrCCCCCCCBr  4.47         test      4.367506   \n",
              "53                BrCCN(CCBr)c1ccccc1  3.84         test      3.583178   \n",
              "80             Brc1cc(Br)c(Br)c(Br)c1  5.55         test      5.420713   \n",
              "83                  Brc1cc(Br)c(Br)s1  4.48         test      4.362076   \n",
              "...                               ...   ...          ...           ...   \n",
              "41929                   c1ccc2nonc2c1  1.69         test      1.549164   \n",
              "41958                   c1cnc2cscc2c1  1.74         test      1.987525   \n",
              "41963  c1cncc(-c2ccnc(-c3cccnc3)c2)c1  1.96         test      2.053985   \n",
              "41968            c1cncc(CCN2CCCCC2)c1  1.66         test      1.926371   \n",
              "41995      c1nc(N2CCCCC2)c2[nH]cnc2n1  2.11         test      2.096595   \n",
              "\n",
              "       pred_uncert_42  \n",
              "4            0.121303  \n",
              "40           0.177158  \n",
              "53           0.149329  \n",
              "80           0.251250  \n",
              "83           0.186974  \n",
              "...               ...  \n",
              "41929        0.089958  \n",
              "41958        0.110805  \n",
              "41963        0.122008  \n",
              "41968        0.102949  \n",
              "41995        0.094560  \n",
              "\n",
              "[6301 rows x 5 columns]"
            ]
          },
          "execution_count": 16,
          "metadata": {},
          "output_type": "execute_result"
        }
      ],
      "source": [
        "df.to_csv('Seeds_GLP_PREDICT_GLP_train_GLP_test.csv', index=False)\n",
        "df"
      ]
    },
    {
      "cell_type": "code",
      "execution_count": 17,
      "metadata": {},
      "outputs": [
        {
          "data": {
            "text/plain": [
              "(0.436, 0.958, 0.253)"
            ]
          },
          "execution_count": 17,
          "metadata": {},
          "output_type": "execute_result"
        }
      ],
      "source": [
        "y_pred_mean = torch.Tensor(np.array(df['pred_logp_42']))\n",
        "r2 = r2_score(y_test, y_pred_mean)\n",
        "rmse = np.sqrt(mean_squared_error(y_test, y_pred_mean))\n",
        "mae = mean_absolute_error(y_test, y_pred_mean)\n",
        "round(rmse, 3), round(r2, 3), round(mae, 3)"
      ]
    }
  ],
  "metadata": {
    "kernelspec": {
      "display_name": "VKR_env",
      "language": "python",
      "name": "python3"
    },
    "language_info": {
      "codemirror_mode": {
        "name": "ipython",
        "version": 3
      },
      "file_extension": ".py",
      "mimetype": "text/x-python",
      "name": "python",
      "nbconvert_exporter": "python",
      "pygments_lexer": "ipython3",
      "version": "3.10.16"
    }
  },
  "nbformat": 4,
  "nbformat_minor": 2
}
