{
  "cells": [
    {
      "cell_type": "markdown",
      "metadata": {},
      "source": [
        "To run predictions, you first need to place the trained model file (.pt format) into the current directory"
      ]
    },
    {
      "cell_type": "code",
      "execution_count": null,
      "metadata": {
        "colab": {
          "base_uri": "https://localhost:8080/"
        },
        "id": "WGZxehx_44Rj",
        "outputId": "fdfb0edd-0770-4742-82ee-04e81104227a"
      },
      "outputs": [],
      "source": [
        "import chemprop\n",
        "import pandas as pd\n",
        "from sklearn.metrics import mean_absolute_error, mean_squared_error\n",
        "from sklearn.decomposition import PCA\n",
        "from sklearn.metrics import r2_score, mean_squared_error, mean_absolute_error\n",
        "import numpy as np"
      ]
    },
    {
      "cell_type": "code",
      "execution_count": null,
      "metadata": {},
      "outputs": [],
      "source": [
        "df = pd.read_csv('data/separate_data/SGNN_dataset.csv')\n",
        "train = df[df['dataset_type'] == 'train']\n",
        "train = train.drop(columns=['dataset_type'])\n",
        "val = df[df['dataset_type'] == 'validation']\n",
        "val= val.drop(columns=['dataset_type'])\n",
        "test = df[df['dataset_type'] == 'test']\n",
        "test = test.drop(columns=['dataset_type'])\n",
        "train.to_csv('train_data.csv', index=False)\n",
        "val.to_csv('val_data.csv', index=False)\n",
        "test.to_csv('test_data.csv', index=False)"
      ]
    },
    {
      "cell_type": "code",
      "execution_count": 3,
      "metadata": {},
      "outputs": [],
      "source": [
        "df = pd.read_csv(f'test_data.csv')"
      ]
    },
    {
      "cell_type": "code",
      "execution_count": 4,
      "metadata": {},
      "outputs": [],
      "source": [
        "seed = 42"
      ]
    },
    {
      "cell_type": "code",
      "execution_count": 5,
      "metadata": {},
      "outputs": [
        {
          "name": "stderr",
          "output_type": "stream",
          "text": [
            "/home/slavick/miniconda3/envs/logp_prediction_env/lib/python3.8/site-packages/chemprop/utils.py:107: FutureWarning: You are using `torch.load` with `weights_only=False` (the current default value), which uses the default pickle module implicitly. It is possible to construct malicious pickle data which will execute arbitrary code during unpickling (See https://github.com/pytorch/pytorch/blob/main/SECURITY.md#untrusted-models for more details). In a future release, the default value for `weights_only` will be flipped to `True`. This limits the functions that could be executed during unpickling. Arbitrary objects will no longer be allowed to be loaded via this mode unless they are explicitly allowlisted by the user via `torch.serialization.add_safe_globals`. We recommend you start setting `weights_only=True` for any use case where you don't have full control of the loaded file. Please open an issue on GitHub for any issues related to this experimental feature.\n",
            "  state = torch.load(path, map_location=lambda storage, loc: storage)\n"
          ]
        },
        {
          "name": "stdout",
          "output_type": "stream",
          "text": [
            "Loading pretrained parameter \"encoder.encoder.0.cached_zero_vector\".\n",
            "Loading pretrained parameter \"encoder.encoder.0.W_i.weight\".\n",
            "Loading pretrained parameter \"encoder.encoder.0.W_h.weight\".\n",
            "Loading pretrained parameter \"encoder.encoder.0.W_o.weight\".\n",
            "Loading pretrained parameter \"encoder.encoder.0.W_o.bias\".\n",
            "Loading pretrained parameter \"ffn.1.weight\".\n",
            "Loading pretrained parameter \"ffn.1.bias\".\n",
            "Loading pretrained parameter \"ffn.4.weight\".\n",
            "Loading pretrained parameter \"ffn.4.bias\".\n",
            "Moving model to cuda\n"
          ]
        }
      ],
      "source": [
        "checkpoint_dir = f\"test_checkpoints_reg_seed_{seed}\"\n",
        "checkpoint_path = f\"{checkpoint_dir}/model.pt\"\n",
        "save_dir = f\"test_checkpoints_reg_seed_{seed}\"  \n",
        "model_objects = chemprop.utils.load_checkpoint(checkpoint_path)"
      ]
    },
    {
      "cell_type": "code",
      "execution_count": 6,
      "metadata": {
        "colab": {
          "base_uri": "https://localhost:8080/"
        },
        "id": "5a1-7UXcJCss",
        "outputId": "4bc95fb9-4403-4de4-9842-ded8e23f094c",
        "scrolled": true
      },
      "outputs": [
        {
          "name": "stderr",
          "output_type": "stream",
          "text": [
            "/home/slavick/miniconda3/envs/logp_prediction_env/lib/python3.8/site-packages/chemprop/utils.py:310: FutureWarning: You are using `torch.load` with `weights_only=False` (the current default value), which uses the default pickle module implicitly. It is possible to construct malicious pickle data which will execute arbitrary code during unpickling (See https://github.com/pytorch/pytorch/blob/main/SECURITY.md#untrusted-models for more details). In a future release, the default value for `weights_only` will be flipped to `True`. This limits the functions that could be executed during unpickling. Arbitrary objects will no longer be allowed to be loaded via this mode unless they are explicitly allowlisted by the user via `torch.serialization.add_safe_globals`. We recommend you start setting `weights_only=True` for any use case where you don't have full control of the loaded file. Please open an issue on GitHub for any issues related to this experimental feature.\n",
            "  args.from_dict(vars(torch.load(path, map_location=lambda storage, loc: storage)['args']), skip_unsettable=True)\n"
          ]
        },
        {
          "name": "stdout",
          "output_type": "stream",
          "text": [
            "Loading training args\n",
            "Setting molecule featurization parameters to default.\n",
            "Loading data\n"
          ]
        },
        {
          "name": "stderr",
          "output_type": "stream",
          "text": [
            "2053it [00:00, 15166.00it/s]\n",
            "100%|██████████| 2053/2053 [00:00<00:00, 310202.32it/s]\n"
          ]
        },
        {
          "name": "stdout",
          "output_type": "stream",
          "text": [
            "Validating SMILES\n",
            "Test size = 2,053\n",
            "Predicting with an ensemble of 1 models\n"
          ]
        },
        {
          "name": "stderr",
          "output_type": "stream",
          "text": [
            "  0%|          | 0/1 [00:00<?, ?it/s]/home/slavick/miniconda3/envs/logp_prediction_env/lib/python3.8/site-packages/chemprop/utils.py:277: FutureWarning: You are using `torch.load` with `weights_only=False` (the current default value), which uses the default pickle module implicitly. It is possible to construct malicious pickle data which will execute arbitrary code during unpickling (See https://github.com/pytorch/pytorch/blob/main/SECURITY.md#untrusted-models for more details). In a future release, the default value for `weights_only` will be flipped to `True`. This limits the functions that could be executed during unpickling. Arbitrary objects will no longer be allowed to be loaded via this mode unless they are explicitly allowlisted by the user via `torch.serialization.add_safe_globals`. We recommend you start setting `weights_only=True` for any use case where you don't have full control of the loaded file. Please open an issue on GitHub for any issues related to this experimental feature.\n",
            "  state = torch.load(path, map_location=lambda storage, loc: storage)\n"
          ]
        },
        {
          "name": "stdout",
          "output_type": "stream",
          "text": [
            "Loading pretrained parameter \"encoder.encoder.0.cached_zero_vector\".\n",
            "Loading pretrained parameter \"encoder.encoder.0.W_i.weight\".\n",
            "Loading pretrained parameter \"encoder.encoder.0.W_h.weight\".\n",
            "Loading pretrained parameter \"encoder.encoder.0.W_o.weight\".\n",
            "Loading pretrained parameter \"encoder.encoder.0.W_o.bias\".\n",
            "Loading pretrained parameter \"ffn.1.weight\".\n",
            "Loading pretrained parameter \"ffn.1.bias\".\n",
            "Loading pretrained parameter \"ffn.4.weight\".\n",
            "Loading pretrained parameter \"ffn.4.bias\".\n",
            "Moving model to cuda\n"
          ]
        },
        {
          "name": "stderr",
          "output_type": "stream",
          "text": [
            "100%|██████████| 1/1 [00:01<00:00,  1.51s/it]"
          ]
        },
        {
          "name": "stdout",
          "output_type": "stream",
          "text": [
            "Saving predictions to test_preds_reg.csv\n",
            "Elapsed time = 0:00:02\n"
          ]
        },
        {
          "name": "stderr",
          "output_type": "stream",
          "text": [
            "\n"
          ]
        }
      ],
      "source": [
        "arguments = [\n",
        "    '--test_path', 'test_data.csv',\n",
        "    '--preds_path', 'test_preds_reg.csv',\n",
        "    '--checkpoint_dir', save_dir\n",
        "]\n",
        "\n",
        "args = chemprop.args.PredictArgs().parse_args(arguments)\n",
        "preds = chemprop.train.make_predictions(args=args)"
      ]
    },
    {
      "cell_type": "code",
      "execution_count": 7,
      "metadata": {
        "colab": {
          "base_uri": "https://localhost:8080/",
          "height": 423
        },
        "id": "j-4hbBeerlX0",
        "outputId": "1a5e1413-aa87-4971-ad6e-f09311987e7c",
        "scrolled": true
      },
      "outputs": [
        {
          "data": {
            "text/html": [
              "<div>\n",
              "<style scoped>\n",
              "    .dataframe tbody tr th:only-of-type {\n",
              "        vertical-align: middle;\n",
              "    }\n",
              "\n",
              "    .dataframe tbody tr th {\n",
              "        vertical-align: top;\n",
              "    }\n",
              "\n",
              "    .dataframe thead th {\n",
              "        text-align: right;\n",
              "    }\n",
              "</style>\n",
              "<table border=\"1\" class=\"dataframe\">\n",
              "  <thead>\n",
              "    <tr style=\"text-align: right;\">\n",
              "      <th></th>\n",
              "      <th>molecule</th>\n",
              "      <th>logp</th>\n",
              "      <th>logP_pred_42</th>\n",
              "    </tr>\n",
              "  </thead>\n",
              "  <tbody>\n",
              "    <tr>\n",
              "      <th>0</th>\n",
              "      <td>c1cc2ccc3ccc4ccc5ccc6ccc1c1c2c3c4c5c61</td>\n",
              "      <td>7.64</td>\n",
              "      <td>6.612525</td>\n",
              "    </tr>\n",
              "    <tr>\n",
              "      <th>1</th>\n",
              "      <td>CCC1(CC)C(=O)NC(=S)NC1=O</td>\n",
              "      <td>1.50</td>\n",
              "      <td>1.333640</td>\n",
              "    </tr>\n",
              "    <tr>\n",
              "      <th>2</th>\n",
              "      <td>COC(=O)C(C#N)=NNc1ccc(Cl)c(C(F)F)c1</td>\n",
              "      <td>3.80</td>\n",
              "      <td>4.372901</td>\n",
              "    </tr>\n",
              "    <tr>\n",
              "      <th>3</th>\n",
              "      <td>CC(=O)C=Cc1ccccc1</td>\n",
              "      <td>2.07</td>\n",
              "      <td>2.203551</td>\n",
              "    </tr>\n",
              "    <tr>\n",
              "      <th>4</th>\n",
              "      <td>Cc1ccc2cccc(O)c2n1</td>\n",
              "      <td>2.33</td>\n",
              "      <td>2.202385</td>\n",
              "    </tr>\n",
              "    <tr>\n",
              "      <th>...</th>\n",
              "      <td>...</td>\n",
              "      <td>...</td>\n",
              "      <td>...</td>\n",
              "    </tr>\n",
              "    <tr>\n",
              "      <th>2048</th>\n",
              "      <td>N#CNc1ccccc1</td>\n",
              "      <td>1.87</td>\n",
              "      <td>1.300820</td>\n",
              "    </tr>\n",
              "    <tr>\n",
              "      <th>2049</th>\n",
              "      <td>NS(=O)(=O)c1ccc(S(=O)(=O)CCO)s1</td>\n",
              "      <td>-0.54</td>\n",
              "      <td>-0.666760</td>\n",
              "    </tr>\n",
              "    <tr>\n",
              "      <th>2050</th>\n",
              "      <td>CCCCC(NC(Cc1ccccc1)C(=O)N1CCC(OCOC)CC1)C(=O)NC...</td>\n",
              "      <td>3.50</td>\n",
              "      <td>3.591919</td>\n",
              "    </tr>\n",
              "    <tr>\n",
              "      <th>2051</th>\n",
              "      <td>O=C(COc1ccc2ccccc2c1)N1CCN(S(=O)(=O)c2ccc3c(c2...</td>\n",
              "      <td>4.47</td>\n",
              "      <td>4.520264</td>\n",
              "    </tr>\n",
              "    <tr>\n",
              "      <th>2052</th>\n",
              "      <td>CCN1CCCC1CNC(=O)c1cc(S(N)(=O)=O)ccc1OC</td>\n",
              "      <td>0.57</td>\n",
              "      <td>0.638807</td>\n",
              "    </tr>\n",
              "  </tbody>\n",
              "</table>\n",
              "<p>2053 rows × 3 columns</p>\n",
              "</div>"
            ],
            "text/plain": [
              "                                               molecule  logp  logP_pred_42\n",
              "0                c1cc2ccc3ccc4ccc5ccc6ccc1c1c2c3c4c5c61  7.64      6.612525\n",
              "1                              CCC1(CC)C(=O)NC(=S)NC1=O  1.50      1.333640\n",
              "2                   COC(=O)C(C#N)=NNc1ccc(Cl)c(C(F)F)c1  3.80      4.372901\n",
              "3                                     CC(=O)C=Cc1ccccc1  2.07      2.203551\n",
              "4                                    Cc1ccc2cccc(O)c2n1  2.33      2.202385\n",
              "...                                                 ...   ...           ...\n",
              "2048                                       N#CNc1ccccc1  1.87      1.300820\n",
              "2049                    NS(=O)(=O)c1ccc(S(=O)(=O)CCO)s1 -0.54     -0.666760\n",
              "2050  CCCCC(NC(Cc1ccccc1)C(=O)N1CCC(OCOC)CC1)C(=O)NC...  3.50      3.591919\n",
              "2051  O=C(COc1ccc2ccccc2c1)N1CCN(S(=O)(=O)c2ccc3c(c2...  4.47      4.520264\n",
              "2052             CCN1CCCC1CNC(=O)c1cc(S(N)(=O)=O)ccc1OC  0.57      0.638807\n",
              "\n",
              "[2053 rows x 3 columns]"
            ]
          },
          "execution_count": 7,
          "metadata": {},
          "output_type": "execute_result"
        }
      ],
      "source": [
        "df[f'logP_pred_{seed}'] = [x[0] for x in preds]\n",
        "df"
      ]
    },
    {
      "cell_type": "code",
      "execution_count": 8,
      "metadata": {
        "colab": {
          "base_uri": "https://localhost:8080/"
        },
        "id": "u89r4L1qHRHB",
        "outputId": "75d3f8c5-0b22-4b1f-ac2c-8b9b1bb5e082"
      },
      "outputs": [
        {
          "data": {
            "text/plain": [
              "(0.493, 0.931, 0.305)"
            ]
          },
          "execution_count": 8,
          "metadata": {},
          "output_type": "execute_result"
        }
      ],
      "source": [
        "r2 = r2_score(df['logp'], df[f'logP_pred_{seed}'])\n",
        "rmse = np.sqrt(mean_squared_error(df['logp'], df[f'logP_pred_{seed}']))\n",
        "mae = mean_absolute_error(df['logp'], df[f'logP_pred_{seed}'])\n",
        "round(rmse, 3), round(r2, 3), round(mae, 3)"
      ]
    },
    {
      "cell_type": "code",
      "execution_count": null,
      "metadata": {},
      "outputs": [],
      "source": [
        "df.to_csv('Seeds_D_MMPN_PREDICT_SGNN_train_SGNN_test.csv', index=False)"
      ]
    }
  ],
  "metadata": {
    "accelerator": "GPU",
    "colab": {
      "gpuType": "T4",
      "provenance": []
    },
    "kernelspec": {
      "display_name": "logp_prediction_env",
      "language": "python",
      "name": "python3"
    },
    "language_info": {
      "codemirror_mode": {
        "name": "ipython",
        "version": 3
      },
      "file_extension": ".py",
      "mimetype": "text/x-python",
      "name": "python",
      "nbconvert_exporter": "python",
      "pygments_lexer": "ipython3",
      "version": "3.8.19"
    }
  },
  "nbformat": 4,
  "nbformat_minor": 4
}
