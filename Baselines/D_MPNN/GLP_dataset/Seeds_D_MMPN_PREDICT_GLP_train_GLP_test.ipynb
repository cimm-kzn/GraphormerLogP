{
  "cells": [
    {
      "cell_type": "markdown",
      "metadata": {},
      "source": [
        "To run predictions, you first need to place the trained model file (.pt format) into the current directory"
      ]
    },
    {
      "cell_type": "code",
      "execution_count": null,
      "metadata": {
        "colab": {
          "base_uri": "https://localhost:8080/"
        },
        "id": "WGZxehx_44Rj",
        "outputId": "fdfb0edd-0770-4742-82ee-04e81104227a"
      },
      "outputs": [],
      "source": [
        "import chemprop\n",
        "import pandas as pd\n",
        "from sklearn.metrics import mean_absolute_error, mean_squared_error\n",
        "from sklearn.metrics import r2_score, mean_squared_error, mean_absolute_error\n",
        "import numpy as np"
      ]
    },
    {
      "cell_type": "code",
      "execution_count": null,
      "metadata": {},
      "outputs": [],
      "source": [
        "df = pd.read_csv('data/separate_data/GLP_dataset.csv')\n",
        "train = df[df['dataset_type'] == 'train']\n",
        "train = train.drop(columns=['dataset_type'])\n",
        "val = df[df['dataset_type'] == 'validation']\n",
        "val= val.drop(columns=['dataset_type'])\n",
        "test = df[df['dataset_type'] == 'test']\n",
        "test = test.drop(columns=['dataset_type'])\n",
        "train.to_csv('train_data.csv', index=False)\n",
        "val.to_csv('val_data.csv', index=False)\n",
        "test.to_csv('test_data.csv', index=False)"
      ]
    },
    {
      "cell_type": "code",
      "execution_count": 3,
      "metadata": {},
      "outputs": [],
      "source": [
        "df = pd.read_csv(f'test_data.csv')"
      ]
    },
    {
      "cell_type": "code",
      "execution_count": 4,
      "metadata": {},
      "outputs": [],
      "source": [
        "seed = 42"
      ]
    },
    {
      "cell_type": "code",
      "execution_count": null,
      "metadata": {},
      "outputs": [
        {
          "name": "stdout",
          "output_type": "stream",
          "text": [
            "Loading pretrained parameter \"encoder.encoder.0.cached_zero_vector\".\n",
            "Loading pretrained parameter \"encoder.encoder.0.W_i.weight\".\n",
            "Loading pretrained parameter \"encoder.encoder.0.W_h.weight\".\n",
            "Loading pretrained parameter \"encoder.encoder.0.W_o.weight\".\n",
            "Loading pretrained parameter \"encoder.encoder.0.W_o.bias\".\n",
            "Loading pretrained parameter \"ffn.1.weight\".\n",
            "Loading pretrained parameter \"ffn.1.bias\".\n",
            "Loading pretrained parameter \"ffn.4.weight\".\n",
            "Loading pretrained parameter \"ffn.4.bias\".\n",
            "Moving model to cuda\n"
          ]
        }
      ],
      "source": [
        "checkpoint_dir = f\"test_checkpoints_reg_seed_{seed}\"\n",
        "checkpoint_path = f\"{checkpoint_dir}/model.pt\"\n",
        "save_dir = f\"test_checkpoints_reg_seed_{seed}\"  \n",
        "model_objects = chemprop.utils.load_checkpoint(checkpoint_path)"
      ]
    },
    {
      "cell_type": "code",
      "execution_count": null,
      "metadata": {
        "colab": {
          "base_uri": "https://localhost:8080/"
        },
        "id": "5a1-7UXcJCss",
        "outputId": "4bc95fb9-4403-4de4-9842-ded8e23f094c",
        "scrolled": true
      },
      "outputs": [
        {
          "name": "stdout",
          "output_type": "stream",
          "text": [
            "Loading training args\n",
            "Setting molecule featurization parameters to default.\n",
            "Loading data\n"
          ]
        },
        {
          "name": "stderr",
          "output_type": "stream",
          "text": [
            "6301it [00:00, 328931.24it/s]\n",
            "100%|██████████| 6301/6301 [00:00<00:00, 337586.66it/s]\n"
          ]
        },
        {
          "name": "stdout",
          "output_type": "stream",
          "text": [
            "Validating SMILES\n",
            "Test size = 6,301\n",
            "Predicting with an ensemble of 1 models\n"
          ]
        },
        {
          "name": "stderr",
          "output_type": "stream",
          "text": [
            "  0%|          | 0/1 [00:00<?, ?it/s]"
          ]
        },
        {
          "name": "stdout",
          "output_type": "stream",
          "text": [
            "Loading pretrained parameter \"encoder.encoder.0.cached_zero_vector\".\n",
            "Loading pretrained parameter \"encoder.encoder.0.W_i.weight\".\n",
            "Loading pretrained parameter \"encoder.encoder.0.W_h.weight\".\n",
            "Loading pretrained parameter \"encoder.encoder.0.W_o.weight\".\n",
            "Loading pretrained parameter \"encoder.encoder.0.W_o.bias\".\n",
            "Loading pretrained parameter \"ffn.1.weight\".\n",
            "Loading pretrained parameter \"ffn.1.bias\".\n",
            "Loading pretrained parameter \"ffn.4.weight\".\n",
            "Loading pretrained parameter \"ffn.4.bias\".\n",
            "Moving model to cuda\n"
          ]
        },
        {
          "name": "stderr",
          "output_type": "stream",
          "text": [
            "100%|██████████| 1/1 [00:02<00:00,  2.74s/it]\n"
          ]
        },
        {
          "name": "stdout",
          "output_type": "stream",
          "text": [
            "Saving predictions to test_preds_reg.csv\n",
            "Elapsed time = 0:00:04\n"
          ]
        }
      ],
      "source": [
        "arguments = [\n",
        "    '--test_path', 'test_data.csv',\n",
        "    '--preds_path', 'test_preds_reg.csv',\n",
        "    '--checkpoint_dir', save_dir\n",
        "]\n",
        "\n",
        "args = chemprop.args.PredictArgs().parse_args(arguments)\n",
        "preds = chemprop.train.make_predictions(args=args)"
      ]
    },
    {
      "cell_type": "code",
      "execution_count": 7,
      "metadata": {
        "colab": {
          "base_uri": "https://localhost:8080/",
          "height": 423
        },
        "id": "j-4hbBeerlX0",
        "outputId": "1a5e1413-aa87-4971-ad6e-f09311987e7c",
        "scrolled": true
      },
      "outputs": [
        {
          "data": {
            "text/html": [
              "<div>\n",
              "<style scoped>\n",
              "    .dataframe tbody tr th:only-of-type {\n",
              "        vertical-align: middle;\n",
              "    }\n",
              "\n",
              "    .dataframe tbody tr th {\n",
              "        vertical-align: top;\n",
              "    }\n",
              "\n",
              "    .dataframe thead th {\n",
              "        text-align: right;\n",
              "    }\n",
              "</style>\n",
              "<table border=\"1\" class=\"dataframe\">\n",
              "  <thead>\n",
              "    <tr style=\"text-align: right;\">\n",
              "      <th></th>\n",
              "      <th>molecule</th>\n",
              "      <th>logp</th>\n",
              "      <th>logP_pred_42</th>\n",
              "    </tr>\n",
              "  </thead>\n",
              "  <tbody>\n",
              "    <tr>\n",
              "      <th>0</th>\n",
              "      <td>BrC(Br)C(Br)Br</td>\n",
              "      <td>2.55</td>\n",
              "      <td>2.684836</td>\n",
              "    </tr>\n",
              "    <tr>\n",
              "      <th>1</th>\n",
              "      <td>BrCCCCCCCBr</td>\n",
              "      <td>4.47</td>\n",
              "      <td>4.473289</td>\n",
              "    </tr>\n",
              "    <tr>\n",
              "      <th>2</th>\n",
              "      <td>BrCCN(CCBr)c1ccccc1</td>\n",
              "      <td>3.84</td>\n",
              "      <td>3.437457</td>\n",
              "    </tr>\n",
              "    <tr>\n",
              "      <th>3</th>\n",
              "      <td>Brc1cc(Br)c(Br)c(Br)c1</td>\n",
              "      <td>5.55</td>\n",
              "      <td>5.403308</td>\n",
              "    </tr>\n",
              "    <tr>\n",
              "      <th>4</th>\n",
              "      <td>Brc1cc(Br)c(Br)s1</td>\n",
              "      <td>4.48</td>\n",
              "      <td>4.659176</td>\n",
              "    </tr>\n",
              "    <tr>\n",
              "      <th>...</th>\n",
              "      <td>...</td>\n",
              "      <td>...</td>\n",
              "      <td>...</td>\n",
              "    </tr>\n",
              "    <tr>\n",
              "      <th>6296</th>\n",
              "      <td>c1ccc2nonc2c1</td>\n",
              "      <td>1.69</td>\n",
              "      <td>1.328012</td>\n",
              "    </tr>\n",
              "    <tr>\n",
              "      <th>6297</th>\n",
              "      <td>c1cnc2cscc2c1</td>\n",
              "      <td>1.74</td>\n",
              "      <td>2.092787</td>\n",
              "    </tr>\n",
              "    <tr>\n",
              "      <th>6298</th>\n",
              "      <td>c1cncc(-c2ccnc(-c3cccnc3)c2)c1</td>\n",
              "      <td>1.96</td>\n",
              "      <td>1.924181</td>\n",
              "    </tr>\n",
              "    <tr>\n",
              "      <th>6299</th>\n",
              "      <td>c1cncc(CCN2CCCCC2)c1</td>\n",
              "      <td>1.66</td>\n",
              "      <td>2.035929</td>\n",
              "    </tr>\n",
              "    <tr>\n",
              "      <th>6300</th>\n",
              "      <td>c1nc(N2CCCCC2)c2[nH]cnc2n1</td>\n",
              "      <td>2.11</td>\n",
              "      <td>2.128832</td>\n",
              "    </tr>\n",
              "  </tbody>\n",
              "</table>\n",
              "<p>6301 rows × 3 columns</p>\n",
              "</div>"
            ],
            "text/plain": [
              "                            molecule  logp  logP_pred_42\n",
              "0                     BrC(Br)C(Br)Br  2.55      2.684836\n",
              "1                        BrCCCCCCCBr  4.47      4.473289\n",
              "2                BrCCN(CCBr)c1ccccc1  3.84      3.437457\n",
              "3             Brc1cc(Br)c(Br)c(Br)c1  5.55      5.403308\n",
              "4                  Brc1cc(Br)c(Br)s1  4.48      4.659176\n",
              "...                              ...   ...           ...\n",
              "6296                   c1ccc2nonc2c1  1.69      1.328012\n",
              "6297                   c1cnc2cscc2c1  1.74      2.092787\n",
              "6298  c1cncc(-c2ccnc(-c3cccnc3)c2)c1  1.96      1.924181\n",
              "6299            c1cncc(CCN2CCCCC2)c1  1.66      2.035929\n",
              "6300      c1nc(N2CCCCC2)c2[nH]cnc2n1  2.11      2.128832\n",
              "\n",
              "[6301 rows x 3 columns]"
            ]
          },
          "execution_count": 7,
          "metadata": {},
          "output_type": "execute_result"
        }
      ],
      "source": [
        "df[f'logP_pred_{seed}'] = [x[0] for x in preds]\n",
        "df"
      ]
    },
    {
      "cell_type": "code",
      "execution_count": 8,
      "metadata": {
        "colab": {
          "base_uri": "https://localhost:8080/"
        },
        "id": "u89r4L1qHRHB",
        "outputId": "75d3f8c5-0b22-4b1f-ac2c-8b9b1bb5e082"
      },
      "outputs": [
        {
          "data": {
            "text/plain": [
              "(0.521, 0.94, 0.317)"
            ]
          },
          "execution_count": 8,
          "metadata": {},
          "output_type": "execute_result"
        }
      ],
      "source": [
        "r2 = r2_score(df['logp'], df[f'logP_pred_{seed}'])\n",
        "rmse = np.sqrt(mean_squared_error(df['logp'], df[f'logP_pred_{seed}']))\n",
        "mae = mean_absolute_error(df['logp'], df[f'logP_pred_{seed}'])\n",
        "round(rmse, 3), round(r2, 3), round(mae, 3)"
      ]
    },
    {
      "cell_type": "code",
      "execution_count": null,
      "metadata": {},
      "outputs": [],
      "source": [
        "df.to_csv('Seeds_D_MMPN_PREDICT_GLP_train_GLP_test.csv', index=False)"
      ]
    }
  ],
  "metadata": {
    "accelerator": "GPU",
    "colab": {
      "gpuType": "T4",
      "provenance": []
    },
    "kernelspec": {
      "display_name": "logp_prediction_env",
      "language": "python",
      "name": "python3"
    },
    "language_info": {
      "codemirror_mode": {
        "name": "ipython",
        "version": 3
      },
      "file_extension": ".py",
      "mimetype": "text/x-python",
      "name": "python",
      "nbconvert_exporter": "python",
      "pygments_lexer": "ipython3",
      "version": "3.8.19"
    }
  },
  "nbformat": 4,
  "nbformat_minor": 4
}
