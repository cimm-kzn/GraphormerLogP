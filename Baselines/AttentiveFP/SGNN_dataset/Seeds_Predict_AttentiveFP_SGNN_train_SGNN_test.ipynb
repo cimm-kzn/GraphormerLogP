{
 "cells": [
  {
   "cell_type": "markdown",
   "metadata": {},
   "source": [
    "To run predictions, you first need to place the trained model file (.pt format) into the current directory"
   ]
  },
  {
   "cell_type": "code",
   "execution_count": null,
   "metadata": {},
   "outputs": [],
   "source": [
    "import sys \n",
    "sys.path.append(\"AttentiveFP/code\")\n",
    "\n",
    "import os\n",
    "import torch\n",
    "import torch.autograd as autograd\n",
    "import torch.nn as nn\n",
    "import torch.nn.functional as F\n",
    "import torch.optim as optim\n",
    "\n",
    "import numpy as np\n",
    "import sys\n",
    "sys.setrecursionlimit(50000)\n",
    "import pickle\n",
    "torch.backends.cudnn.benchmark = True\n",
    "torch.set_default_tensor_type('torch.cuda.FloatTensor')\n",
    "torch.nn.Module.dump_patches = True\n",
    "import copy\n",
    "import pandas as pd\n",
    "from AttentiveFP import Fingerprint, save_smiles_dicts, get_smiles_array"
   ]
  },
  {
   "cell_type": "code",
   "execution_count": null,
   "metadata": {},
   "outputs": [
    {
     "name": "stderr",
     "output_type": "stream",
     "text": [
      "/home/slavick/miniconda3/envs/AttentiveFP_env/lib/python3.7/site-packages/sklearn/utils/validation.py:37: DeprecationWarning: distutils Version classes are deprecated. Use packaging.version instead.\n",
      "  LARGE_SPARSE_SUPPORTED = LooseVersion(scipy_version) >= '0.14.0'\n"
     ]
    }
   ],
   "source": [
    "from rdkit import Chem\n",
    "from rdkit.Chem import QED\n",
    "from rdkit.Chem import rdMolDescriptors, MolSurf\n",
    "from rdkit.Chem.Draw import SimilarityMaps\n",
    "from rdkit import Chem\n",
    "from rdkit.Chem import AllChem\n",
    "from rdkit.Chem import rdDepictor\n",
    "from rdkit.Chem.Draw import rdMolDraw2D\n",
    "%matplotlib inline\n",
    "from numpy.polynomial.polynomial import polyfit\n",
    "import matplotlib.pyplot as plt\n",
    "from matplotlib import gridspec\n",
    "import matplotlib.cm as cm\n",
    "import matplotlib\n",
    "import seaborn as sns; sns.set_style(\"darkgrid\")\n",
    "from IPython.display import SVG, display\n",
    "import sascorer\n",
    "import itertools\n",
    "from sklearn.metrics import r2_score\n",
    "import scipy"
   ]
  },
  {
   "cell_type": "code",
   "execution_count": 3,
   "metadata": {},
   "outputs": [],
   "source": [
    "seed = 42"
   ]
  },
  {
   "cell_type": "code",
   "execution_count": null,
   "metadata": {},
   "outputs": [],
   "source": [
    "start_time = str(seed)\n",
    "\n",
    "batch_size = 200\n",
    "epochs = 200\n",
    "\n",
    "p_dropout= 0.2\n",
    "fingerprint_dim = 200\n",
    "\n",
    "weight_decay = 5 # also known as l2_regularization_lambda\n",
    "learning_rate = 2.5\n",
    "output_units_num = 1 # for regression model\n",
    "radius = 2\n",
    "T = 4"
   ]
  },
  {
   "cell_type": "code",
   "execution_count": null,
   "metadata": {},
   "outputs": [
    {
     "name": "stdout",
     "output_type": "stream",
     "text": [
      "number of all smiles:  13688\n",
      "number of successfully processed smiles:  13688\n"
     ]
    },
    {
     "data": {
      "image/png": "[encoded data removed]",
      "text/plain": [
       "<Figure size 500x300 with 1 Axes>"
      ]
     },
     "metadata": {},
     "output_type": "display_data"
    }
   ],
   "source": [
    "task_name = 'SGNN_dataset'\n",
    "tasks = ['logp']\n",
    "\n",
    "raw_filename = \"data/separate_data/SGNN_dataset.csv\"\n",
    "feature_filename = raw_filename.replace('.csv','.pickle')\n",
    "filename = raw_filename.replace('.csv','')\n",
    "prefix_filename = raw_filename.split('/')[-1].replace('.csv','')\n",
    "smiles_tasks_df = pd.read_csv(raw_filename)\n",
    "smilesList = smiles_tasks_df.molecule.values\n",
    "print(\"number of all smiles: \",len(smilesList))\n",
    "atom_num_dist = []\n",
    "remained_smiles = []\n",
    "canonical_smiles_list = []\n",
    "for smiles in smilesList:\n",
    "    try:        \n",
    "        mol = Chem.MolFromSmiles(smiles)\n",
    "        atom_num_dist.append(len(mol.GetAtoms()))\n",
    "        remained_smiles.append(smiles)\n",
    "        canonical_smiles_list.append(Chem.MolToSmiles(Chem.MolFromSmiles(smiles), isomericSmiles=True))\n",
    "    except:\n",
    "        print(smiles)\n",
    "        pass\n",
    "print(\"number of successfully processed smiles: \", len(remained_smiles))\n",
    "smiles_tasks_df = smiles_tasks_df[smiles_tasks_df[\"molecule\"].isin(remained_smiles)]\n",
    "smiles_tasks_df['cano_smiles'] =canonical_smiles_list\n",
    "assert canonical_smiles_list[8]==Chem.MolToSmiles(Chem.MolFromSmiles(smiles_tasks_df['cano_smiles'][8]), isomericSmiles=True)\n",
    "\n",
    "plt.figure(figsize=(5, 3))\n",
    "sns.set(font_scale=1.5)\n",
    "ax = sns.distplot(atom_num_dist, bins=28, kde=False)\n",
    "plt.tight_layout()\n",
    "plt.show()\n",
    "plt.close()"
   ]
  },
  {
   "cell_type": "code",
   "execution_count": 6,
   "metadata": {},
   "outputs": [
    {
     "data": {
      "text/html": [
       "<div>\n",
       "<style scoped>\n",
       "    .dataframe tbody tr th:only-of-type {\n",
       "        vertical-align: middle;\n",
       "    }\n",
       "\n",
       "    .dataframe tbody tr th {\n",
       "        vertical-align: top;\n",
       "    }\n",
       "\n",
       "    .dataframe thead th {\n",
       "        text-align: right;\n",
       "    }\n",
       "</style>\n",
       "<table border=\"1\" class=\"dataframe\">\n",
       "  <thead>\n",
       "    <tr style=\"text-align: right;\">\n",
       "      <th></th>\n",
       "      <th>molecule</th>\n",
       "      <th>logp</th>\n",
       "      <th>dataset_type</th>\n",
       "      <th>cano_smiles</th>\n",
       "    </tr>\n",
       "  </thead>\n",
       "  <tbody>\n",
       "    <tr>\n",
       "      <th>0</th>\n",
       "      <td>N#CCOC(=O)c1ccccc1SCC(=O)N1CCCC1</td>\n",
       "      <td>2.57</td>\n",
       "      <td>validation</td>\n",
       "      <td>N#CCOC(=O)c1ccccc1SCC(=O)N1CCCC1</td>\n",
       "    </tr>\n",
       "    <tr>\n",
       "      <th>1</th>\n",
       "      <td>C=Cc1ccc(CC)cc1</td>\n",
       "      <td>4.19</td>\n",
       "      <td>validation</td>\n",
       "      <td>C=Cc1ccc(CC)cc1</td>\n",
       "    </tr>\n",
       "    <tr>\n",
       "      <th>2</th>\n",
       "      <td>COC(=O)CS(=O)c1ccc([N+](=O)[O-])cc1Cl</td>\n",
       "      <td>1.35</td>\n",
       "      <td>validation</td>\n",
       "      <td>COC(=O)CS(=O)c1ccc([N+](=O)[O-])cc1Cl</td>\n",
       "    </tr>\n",
       "    <tr>\n",
       "      <th>3</th>\n",
       "      <td>COCC(c1c(O)c2ccccc2oc1=O)c1c(O)c2ccccc2oc1=O</td>\n",
       "      <td>1.38</td>\n",
       "      <td>validation</td>\n",
       "      <td>COCC(c1c(O)c2ccccc2oc1=O)c1c(O)c2ccccc2oc1=O</td>\n",
       "    </tr>\n",
       "    <tr>\n",
       "      <th>4</th>\n",
       "      <td>CCCCOc1ccc(C(N)=O)cc1</td>\n",
       "      <td>2.48</td>\n",
       "      <td>validation</td>\n",
       "      <td>CCCCOc1ccc(C(N)=O)cc1</td>\n",
       "    </tr>\n",
       "  </tbody>\n",
       "</table>\n",
       "</div>"
      ],
      "text/plain": [
       "                                       molecule  logp dataset_type  \\\n",
       "0              N#CCOC(=O)c1ccccc1SCC(=O)N1CCCC1  2.57   validation   \n",
       "1                               C=Cc1ccc(CC)cc1  4.19   validation   \n",
       "2         COC(=O)CS(=O)c1ccc([N+](=O)[O-])cc1Cl  1.35   validation   \n",
       "3  COCC(c1c(O)c2ccccc2oc1=O)c1c(O)c2ccccc2oc1=O  1.38   validation   \n",
       "4                         CCCCOc1ccc(C(N)=O)cc1  2.48   validation   \n",
       "\n",
       "                                    cano_smiles  \n",
       "0              N#CCOC(=O)c1ccccc1SCC(=O)N1CCCC1  \n",
       "1                               C=Cc1ccc(CC)cc1  \n",
       "2         COC(=O)CS(=O)c1ccc([N+](=O)[O-])cc1Cl  \n",
       "3  COCC(c1c(O)c2ccccc2oc1=O)c1c(O)c2ccccc2oc1=O  \n",
       "4                         CCCCOc1ccc(C(N)=O)cc1  "
      ]
     },
     "execution_count": 6,
     "metadata": {},
     "output_type": "execute_result"
    }
   ],
   "source": [
    "smiles_tasks_df.head()"
   ]
  },
  {
   "cell_type": "code",
   "execution_count": null,
   "metadata": {},
   "outputs": [
    {
     "name": "stdout",
     "output_type": "stream",
     "text": [
      "not processed items\n"
     ]
    },
    {
     "data": {
      "text/html": [
       "<div>\n",
       "<style scoped>\n",
       "    .dataframe tbody tr th:only-of-type {\n",
       "        vertical-align: middle;\n",
       "    }\n",
       "\n",
       "    .dataframe tbody tr th {\n",
       "        vertical-align: top;\n",
       "    }\n",
       "\n",
       "    .dataframe thead th {\n",
       "        text-align: right;\n",
       "    }\n",
       "</style>\n",
       "<table border=\"1\" class=\"dataframe\">\n",
       "  <thead>\n",
       "    <tr style=\"text-align: right;\">\n",
       "      <th></th>\n",
       "      <th>molecule</th>\n",
       "      <th>logp</th>\n",
       "      <th>dataset_type</th>\n",
       "      <th>cano_smiles</th>\n",
       "    </tr>\n",
       "  </thead>\n",
       "  <tbody>\n",
       "    <tr>\n",
       "      <th>8339</th>\n",
       "      <td>FS(F)(F)(F)(F)c1ccccc1</td>\n",
       "      <td>3.36</td>\n",
       "      <td>train</td>\n",
       "      <td>FS(F)(F)(F)(F)c1ccccc1</td>\n",
       "    </tr>\n",
       "    <tr>\n",
       "      <th>8651</th>\n",
       "      <td>FS(F)(F)(F)(F)F</td>\n",
       "      <td>1.68</td>\n",
       "      <td>train</td>\n",
       "      <td>FS(F)(F)(F)(F)F</td>\n",
       "    </tr>\n",
       "    <tr>\n",
       "      <th>8808</th>\n",
       "      <td>O=C(O)COc1cccc(S(F)(F)(F)(F)F)c1</td>\n",
       "      <td>2.78</td>\n",
       "      <td>train</td>\n",
       "      <td>O=C(O)COc1cccc(S(F)(F)(F)(F)F)c1</td>\n",
       "    </tr>\n",
       "  </tbody>\n",
       "</table>\n",
       "</div>"
      ],
      "text/plain": [
       "                              molecule  logp dataset_type  \\\n",
       "8339            FS(F)(F)(F)(F)c1ccccc1  3.36        train   \n",
       "8651                   FS(F)(F)(F)(F)F  1.68        train   \n",
       "8808  O=C(O)COc1cccc(S(F)(F)(F)(F)F)c1  2.78        train   \n",
       "\n",
       "                           cano_smiles  \n",
       "8339            FS(F)(F)(F)(F)c1ccccc1  \n",
       "8651                   FS(F)(F)(F)(F)F  \n",
       "8808  O=C(O)COc1cccc(S(F)(F)(F)(F)F)c1  "
      ]
     },
     "execution_count": 7,
     "metadata": {},
     "output_type": "execute_result"
    }
   ],
   "source": [
    "if os.path.isfile(feature_filename):\n",
    "    feature_dicts = pickle.load(open(feature_filename, \"rb\" ))\n",
    "else:\n",
    "    feature_dicts = save_smiles_dicts(smilesList,filename)\n",
    "remained_df = smiles_tasks_df[smiles_tasks_df[\"cano_smiles\"].isin(feature_dicts['smiles_to_atom_mask'].keys())]\n",
    "uncovered_df = smiles_tasks_df.drop(remained_df.index)\n",
    "print(\"not processed items\")\n",
    "uncovered_df"
   ]
  },
  {
   "cell_type": "code",
   "execution_count": 8,
   "metadata": {},
   "outputs": [
    {
     "data": {
      "text/html": [
       "<div>\n",
       "<style scoped>\n",
       "    .dataframe tbody tr th:only-of-type {\n",
       "        vertical-align: middle;\n",
       "    }\n",
       "\n",
       "    .dataframe tbody tr th {\n",
       "        vertical-align: top;\n",
       "    }\n",
       "\n",
       "    .dataframe thead th {\n",
       "        text-align: right;\n",
       "    }\n",
       "</style>\n",
       "<table border=\"1\" class=\"dataframe\">\n",
       "  <thead>\n",
       "    <tr style=\"text-align: right;\">\n",
       "      <th></th>\n",
       "      <th>molecule</th>\n",
       "      <th>logp</th>\n",
       "      <th>dataset_type</th>\n",
       "      <th>cano_smiles</th>\n",
       "    </tr>\n",
       "  </thead>\n",
       "  <tbody>\n",
       "    <tr>\n",
       "      <th>0</th>\n",
       "      <td>N#CCOC(=O)c1ccccc1SCC(=O)N1CCCC1</td>\n",
       "      <td>2.57</td>\n",
       "      <td>validation</td>\n",
       "      <td>N#CCOC(=O)c1ccccc1SCC(=O)N1CCCC1</td>\n",
       "    </tr>\n",
       "    <tr>\n",
       "      <th>1</th>\n",
       "      <td>C=Cc1ccc(CC)cc1</td>\n",
       "      <td>4.19</td>\n",
       "      <td>validation</td>\n",
       "      <td>C=Cc1ccc(CC)cc1</td>\n",
       "    </tr>\n",
       "    <tr>\n",
       "      <th>2</th>\n",
       "      <td>COC(=O)CS(=O)c1ccc([N+](=O)[O-])cc1Cl</td>\n",
       "      <td>1.35</td>\n",
       "      <td>validation</td>\n",
       "      <td>COC(=O)CS(=O)c1ccc([N+](=O)[O-])cc1Cl</td>\n",
       "    </tr>\n",
       "    <tr>\n",
       "      <th>3</th>\n",
       "      <td>COCC(c1c(O)c2ccccc2oc1=O)c1c(O)c2ccccc2oc1=O</td>\n",
       "      <td>1.38</td>\n",
       "      <td>validation</td>\n",
       "      <td>COCC(c1c(O)c2ccccc2oc1=O)c1c(O)c2ccccc2oc1=O</td>\n",
       "    </tr>\n",
       "    <tr>\n",
       "      <th>4</th>\n",
       "      <td>CCCCOc1ccc(C(N)=O)cc1</td>\n",
       "      <td>2.48</td>\n",
       "      <td>validation</td>\n",
       "      <td>CCCCOc1ccc(C(N)=O)cc1</td>\n",
       "    </tr>\n",
       "  </tbody>\n",
       "</table>\n",
       "</div>"
      ],
      "text/plain": [
       "                                       molecule  logp dataset_type  \\\n",
       "0              N#CCOC(=O)c1ccccc1SCC(=O)N1CCCC1  2.57   validation   \n",
       "1                               C=Cc1ccc(CC)cc1  4.19   validation   \n",
       "2         COC(=O)CS(=O)c1ccc([N+](=O)[O-])cc1Cl  1.35   validation   \n",
       "3  COCC(c1c(O)c2ccccc2oc1=O)c1c(O)c2ccccc2oc1=O  1.38   validation   \n",
       "4                         CCCCOc1ccc(C(N)=O)cc1  2.48   validation   \n",
       "\n",
       "                                    cano_smiles  \n",
       "0              N#CCOC(=O)c1ccccc1SCC(=O)N1CCCC1  \n",
       "1                               C=Cc1ccc(CC)cc1  \n",
       "2         COC(=O)CS(=O)c1ccc([N+](=O)[O-])cc1Cl  \n",
       "3  COCC(c1c(O)c2ccccc2oc1=O)c1c(O)c2ccccc2oc1=O  \n",
       "4                         CCCCOc1ccc(C(N)=O)cc1  "
      ]
     },
     "execution_count": 8,
     "metadata": {},
     "output_type": "execute_result"
    }
   ],
   "source": [
    "remained_df.head()"
   ]
  },
  {
   "cell_type": "code",
   "execution_count": null,
   "metadata": {},
   "outputs": [],
   "source": [
    "remained_df = remained_df.reset_index(drop=True)\n",
    "test_df = remained_df[remained_df['dataset_type'] == 'test']\n",
    "training_data = remained_df[remained_df['dataset_type'] == 'train']\n",
    "\n",
    "valid_df = remained_df[remained_df['dataset_type'] == 'validation']\n",
    "train_df = training_data \n",
    "train_df = train_df.reset_index(drop=True)\n",
    "valid_df = valid_df.reset_index(drop=True)\n",
    "test_df = test_df.reset_index(drop=True)"
   ]
  },
  {
   "cell_type": "code",
   "execution_count": null,
   "metadata": {
    "scrolled": true
   },
   "outputs": [
    {
     "name": "stdout",
     "output_type": "stream",
     "text": [
      "863604\n",
      "atom_fc.weight torch.Size([200, 39])\n",
      "atom_fc.bias torch.Size([200])\n",
      "neighbor_fc.weight torch.Size([200, 49])\n",
      "neighbor_fc.bias torch.Size([200])\n",
      "GRUCell.0.weight_ih torch.Size([600, 200])\n",
      "GRUCell.0.weight_hh torch.Size([600, 200])\n",
      "GRUCell.0.bias_ih torch.Size([600])\n",
      "GRUCell.0.bias_hh torch.Size([600])\n",
      "GRUCell.1.weight_ih torch.Size([600, 200])\n",
      "GRUCell.1.weight_hh torch.Size([600, 200])\n",
      "GRUCell.1.bias_ih torch.Size([600])\n",
      "GRUCell.1.bias_hh torch.Size([600])\n",
      "align.0.weight torch.Size([1, 400])\n",
      "align.0.bias torch.Size([1])\n",
      "align.1.weight torch.Size([1, 400])\n",
      "align.1.bias torch.Size([1])\n",
      "attend.0.weight torch.Size([200, 200])\n",
      "attend.0.bias torch.Size([200])\n",
      "attend.1.weight torch.Size([200, 200])\n",
      "attend.1.bias torch.Size([200])\n",
      "mol_GRUCell.weight_ih torch.Size([600, 200])\n",
      "mol_GRUCell.weight_hh torch.Size([600, 200])\n",
      "mol_GRUCell.bias_ih torch.Size([600])\n",
      "mol_GRUCell.bias_hh torch.Size([600])\n",
      "mol_align.weight torch.Size([1, 400])\n",
      "mol_align.bias torch.Size([1])\n",
      "mol_attend.weight torch.Size([200, 200])\n",
      "mol_attend.bias torch.Size([200])\n",
      "output.weight torch.Size([1, 200])\n",
      "output.bias torch.Size([1])\n"
     ]
    }
   ],
   "source": [
    "x_atom, x_bonds, x_atom_index, x_bond_index, x_mask, smiles_to_rdkit_list = get_smiles_array([canonical_smiles_list[0]],feature_dicts)\n",
    "num_atom_features = x_atom.shape[-1]\n",
    "num_bond_features = x_bonds.shape[-1]\n",
    "loss_function = nn.MSELoss()\n",
    "model = Fingerprint(radius, T, num_atom_features, num_bond_features,\n",
    "            fingerprint_dim, output_units_num, p_dropout)\n",
    "model.cuda()\n",
    "\n",
    "optimizer = optim.Adam(model.parameters(), 10**-learning_rate, weight_decay=10**-weight_decay)\n",
    "\n",
    "model_parameters = filter(lambda p: p.requires_grad, model.parameters())\n",
    "params = sum([np.prod(p.size()) for p in model_parameters])\n",
    "print(params)\n",
    "for name, param in model.named_parameters():\n",
    "    if param.requires_grad:\n",
    "        print(name, param.data.shape)\n",
    "        "
   ]
  },
  {
   "cell_type": "code",
   "execution_count": 11,
   "metadata": {},
   "outputs": [],
   "source": [
    "def eval(model, dataset):\n",
    "    model.eval()\n",
    "    preds = []\n",
    "    true_vals = []\n",
    "    smiles_all = []\n",
    "\n",
    "    valList = np.arange(0, dataset.shape[0])\n",
    "    batch_list = []\n",
    "    for i in range(0, dataset.shape[0], batch_size):\n",
    "        batch = valList[i:i+batch_size]\n",
    "        batch_list.append(batch) \n",
    "\n",
    "    for counter, eval_batch in enumerate(batch_list):\n",
    "        batch_df = dataset.loc[eval_batch, :]\n",
    "        smiles_list = batch_df.cano_smiles.values\n",
    "        y_val = batch_df[tasks[0]].values\n",
    "\n",
    "        x_atom, x_bonds, x_atom_index, x_bond_index, x_mask, smiles_to_rdkit_list = get_smiles_array(\n",
    "            smiles_list, feature_dicts\n",
    "        )\n",
    "\n",
    "        _, mol_prediction = model(\n",
    "            torch.Tensor(x_atom),\n",
    "            torch.Tensor(x_bonds),\n",
    "            torch.cuda.LongTensor(x_atom_index),\n",
    "            torch.cuda.LongTensor(x_bond_index),\n",
    "            torch.Tensor(x_mask)\n",
    "        )\n",
    "\n",
    "        preds.extend(mol_prediction.data.squeeze().cpu().numpy())\n",
    "        true_vals.extend(y_val)\n",
    "        smiles_all.extend(smiles_list)\n",
    "\n",
    "    df = pd.DataFrame({\n",
    "        \"smiles\": smiles_all,\n",
    "        \"logp\": true_vals,\n",
    "        f\"logP_pred_{seed}\": preds\n",
    "    })\n",
    "    return df"
   ]
  },
  {
   "cell_type": "code",
   "execution_count": null,
   "metadata": {},
   "outputs": [],
   "source": [
    "best_model = torch.load(f'SGNN_dataset_{str(seed)}.pt')     \n",
    "\n",
    "best_model_dict = best_model.state_dict()\n",
    "best_model_wts = copy.deepcopy(best_model_dict)\n",
    "\n",
    "model.load_state_dict(best_model_wts)\n",
    "(best_model.align[0].weight == model.align[0].weight).all()\n",
    "df = eval(model, test_df)"
   ]
  },
  {
   "cell_type": "code",
   "execution_count": 13,
   "metadata": {},
   "outputs": [
    {
     "data": {
      "text/html": [
       "<div>\n",
       "<style scoped>\n",
       "    .dataframe tbody tr th:only-of-type {\n",
       "        vertical-align: middle;\n",
       "    }\n",
       "\n",
       "    .dataframe tbody tr th {\n",
       "        vertical-align: top;\n",
       "    }\n",
       "\n",
       "    .dataframe thead th {\n",
       "        text-align: right;\n",
       "    }\n",
       "</style>\n",
       "<table border=\"1\" class=\"dataframe\">\n",
       "  <thead>\n",
       "    <tr style=\"text-align: right;\">\n",
       "      <th></th>\n",
       "      <th>smiles</th>\n",
       "      <th>logp</th>\n",
       "      <th>logP_pred_42</th>\n",
       "    </tr>\n",
       "  </thead>\n",
       "  <tbody>\n",
       "    <tr>\n",
       "      <th>0</th>\n",
       "      <td>c1cc2ccc3ccc4ccc5ccc6ccc1c1c2c3c4c5c61</td>\n",
       "      <td>7.64</td>\n",
       "      <td>6.858562</td>\n",
       "    </tr>\n",
       "    <tr>\n",
       "      <th>1</th>\n",
       "      <td>CCC1(CC)C(=O)NC(=S)NC1=O</td>\n",
       "      <td>1.50</td>\n",
       "      <td>1.797534</td>\n",
       "    </tr>\n",
       "    <tr>\n",
       "      <th>2</th>\n",
       "      <td>COC(=O)C(C#N)=NNc1ccc(Cl)c(C(F)F)c1</td>\n",
       "      <td>3.80</td>\n",
       "      <td>4.333636</td>\n",
       "    </tr>\n",
       "    <tr>\n",
       "      <th>3</th>\n",
       "      <td>CC(=O)C=Cc1ccccc1</td>\n",
       "      <td>2.07</td>\n",
       "      <td>2.160399</td>\n",
       "    </tr>\n",
       "    <tr>\n",
       "      <th>4</th>\n",
       "      <td>Cc1ccc2cccc(O)c2n1</td>\n",
       "      <td>2.33</td>\n",
       "      <td>2.136162</td>\n",
       "    </tr>\n",
       "  </tbody>\n",
       "</table>\n",
       "</div>"
      ],
      "text/plain": [
       "                                   smiles  logp  logP_pred_42\n",
       "0  c1cc2ccc3ccc4ccc5ccc6ccc1c1c2c3c4c5c61  7.64      6.858562\n",
       "1                CCC1(CC)C(=O)NC(=S)NC1=O  1.50      1.797534\n",
       "2     COC(=O)C(C#N)=NNc1ccc(Cl)c(C(F)F)c1  3.80      4.333636\n",
       "3                       CC(=O)C=Cc1ccccc1  2.07      2.160399\n",
       "4                      Cc1ccc2cccc(O)c2n1  2.33      2.136162"
      ]
     },
     "execution_count": 13,
     "metadata": {},
     "output_type": "execute_result"
    }
   ],
   "source": [
    "df.head()"
   ]
  },
  {
   "cell_type": "code",
   "execution_count": 14,
   "metadata": {},
   "outputs": [
    {
     "data": {
      "text/plain": [
       "(0.515, 0.924, 0.315)"
      ]
     },
     "execution_count": 14,
     "metadata": {},
     "output_type": "execute_result"
    }
   ],
   "source": [
    "from sklearn.metrics import r2_score, mean_squared_error, mean_absolute_error\n",
    "import numpy as np\n",
    "r2 = r2_score(df['logp'], df[f'logP_pred_{seed}'])\n",
    "rmse = np.sqrt(mean_squared_error(df['logp'], df[f'logP_pred_{seed}']))\n",
    "mae = mean_absolute_error(df['logp'], df[f'logP_pred_{seed}'])\n",
    "round(rmse, 3), round(r2, 3), round(mae, 3)"
   ]
  },
  {
   "cell_type": "code",
   "execution_count": 15,
   "metadata": {},
   "outputs": [],
   "source": [
    "df.to_csv('Seeds_Predict_AttentiveFP_SGNN_train_SGNN_test.csv', index=False)"
   ]
  }
 ],
 "metadata": {
  "kernelspec": {
   "display_name": "AttentiveFP_env",
   "language": "python",
   "name": "python3"
  },
  "language_info": {
   "codemirror_mode": {
    "name": "ipython",
    "version": 3
   },
   "file_extension": ".py",
   "mimetype": "text/x-python",
   "name": "python",
   "nbconvert_exporter": "python",
   "pygments_lexer": "ipython3",
   "version": "3.7.12"
  }
 },
 "nbformat": 4,
 "nbformat_minor": 2
}
